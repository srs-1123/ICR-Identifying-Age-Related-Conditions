{
 "cells": [
  {
   "cell_type": "markdown",
   "id": "2e2ebfbb",
   "metadata": {},
   "source": [
    "# xgboost"
   ]
  },
  {
   "cell_type": "code",
   "execution_count": 1,
   "id": "c565dfec",
   "metadata": {},
   "outputs": [],
   "source": [
    "import numpy as np\n",
    "import pandas as pd\n",
    "from sklearn.metrics import log_loss\n",
    "import xgboost as xgb\n",
    "from xgboost import XGBClassifier\n",
    "from sklearn.model_selection import StratifiedKFold\n",
    "import optuna\n",
    "import warnings\n",
    "from tqdm import tqdm\n",
    "warnings.simplefilter('ignore')"
   ]
  },
  {
   "cell_type": "code",
   "execution_count": 2,
   "id": "effab245",
   "metadata": {},
   "outputs": [],
   "source": [
    "# 設定値\n",
    "class CFG:\n",
    "    # 変更するパラメータ\n",
    "    n_folds = 5 # 公差検証の分割数\n",
    "    n_trials = 100 # ハイパーパラメータチューニングの試行回数\n",
    "    # その他設定値\n",
    "    learning_rate = 0.01\n",
    "    seed = 1234 "
   ]
  },
  {
   "cell_type": "code",
   "execution_count": 3,
   "id": "5341650c",
   "metadata": {},
   "outputs": [],
   "source": [
    "# BASE_DIR = '/kaggle/input/icr-identify-age-related-conditions/'\n",
    "BASE_DIR = '../../data'\n",
    "train_df = pd.read_csv(f'{BASE_DIR}/train.csv')\n",
    "greeks_df = pd.read_csv(f'{BASE_DIR}/greeks.csv')\n",
    "test_df = pd.read_csv(f'{BASE_DIR}/test.csv')\n",
    "submission_df = pd.read_csv(f'{BASE_DIR}/sample_submission.csv')"
   ]
  },
  {
   "cell_type": "code",
   "execution_count": 4,
   "id": "a3ef47eb",
   "metadata": {},
   "outputs": [],
   "source": [
    "train_df = train_df.drop('EJ', axis=1)\n",
    "X_train = train_df.drop(['Id', 'Class'], axis=1)\n",
    "y_train = train_df['Class']"
   ]
  },
  {
   "cell_type": "markdown",
   "id": "8910afd9",
   "metadata": {},
   "source": [
    "### balanced loglossの計算（学習で使う？）"
   ]
  },
  {
   "cell_type": "code",
   "execution_count": 5,
   "id": "8a5b023e",
   "metadata": {},
   "outputs": [],
   "source": [
    "# 評価基準\n",
    "def balanced_log_loss(y_true, y_pred):\n",
    "    N = len(y_true)\n",
    "\n",
    "    # Nc is the number of observations\n",
    "    N_1 = np.sum(y_true == 1, axis=0)\n",
    "    N_0 = np.sum(y_true == 0, axis=0)\n",
    "\n",
    "    # In order to avoid the extremes of the log function, each predicted probability 𝑝 is replaced with max(min(𝑝,1−10−15),10−15)\n",
    "    y_pred = np.maximum(np.minimum(y_pred, 1 - 1e-15), 1e-15)\n",
    "\n",
    "    # balanced logarithmic loss\n",
    "    loss_numerator = - (1/N_0) * np.sum((1 - y_true) * np.log(1-y_pred)) - (1/N_1) * np.sum(y_true * np.log(y_pred))\n",
    "\n",
    "    return loss_numerator / 2\n",
    "\n",
    "# Classの０，１の割合をそれぞれ計算\n",
    "def calc_log_loss_weight(y_true):\n",
    "    nc = np.bincount(y_true)\n",
    "    w0, w1 = 1/(nc[0]/y_true.shape[0]), 1/(nc[1]/y_true.shape[0])\n",
    "    return w0, w1"
   ]
  },
  {
   "cell_type": "code",
   "execution_count": 6,
   "id": "0cea571a",
   "metadata": {},
   "outputs": [],
   "source": [
    "# xgboost設定値\n",
    "xgb_params = {\n",
    "    'objective': 'binary:logistic',# 学習タスク\n",
    "    'tree_method': 'gpu_hist',\n",
    "    'eval_metric': 'rmse',\n",
    "    'random_state': CFG.seed,\n",
    "    'learning_rate': CFG.learning_rate,\n",
    "    # 探索したパラメータ\n",
    "    'max_depth': 20,\n",
    "    'colsample_bytree': 0.6597946356014663,\n",
    "    'subsample': 0.7,\n",
    "    'gamma': 1.884172979513442,\n",
    "    'lambda': 0.006050024963423825,\n",
    "    'min_child_weight': 9,\n",
    "}\n",
    "num_boost_round = 926\n",
    "early_stopping_rounds = 98"
   ]
  },
  {
   "cell_type": "code",
   "execution_count": 10,
   "id": "47f5345e",
   "metadata": {},
   "outputs": [
    {
     "name": "stdout",
     "output_type": "stream",
     "text": [
      "fold: 1\n",
      "fold: 2\n",
      "fold: 3\n",
      "fold: 4\n",
      "fold: 5\n"
     ]
    },
    {
     "data": {
      "text/plain": [
       "0.28495961062567476"
      ]
     },
     "execution_count": 10,
     "metadata": {},
     "output_type": "execute_result"
    }
   ],
   "source": [
    "scores = []\n",
    "# K-分割交差検証(層化抽出法)\n",
    "kfold = StratifiedKFold(n_splits = CFG.n_folds, shuffle = True, random_state = CFG.seed)\n",
    "\n",
    "for fold, (train_index, valid_index) in enumerate(kfold.split(X_train, y_train)):\n",
    "    # 進行状況\n",
    "    print('fold: {}'.format(fold+1))\n",
    "    # 訓練データを分割\n",
    "    X_train_fold = X_train.iloc[train_index]\n",
    "    y_train_fold = y_train.iloc[train_index]\n",
    "    X_valid_fold = X_train.iloc[valid_index]\n",
    "    y_valid_fold = y_train.iloc[valid_index]\n",
    "\n",
    "    # 訓練データの重みを計算\n",
    "    train_w0, train_w1 = calc_log_loss_weight(y_train_fold)\n",
    "    # 検証データの重みを計算\n",
    "    valid_w0, valid_w1 = calc_log_loss_weight(y_valid_fold)\n",
    "    # 訓練データをxgb用に変換\n",
    "    xgb_train = xgb.DMatrix(data=X_train_fold, label=y_train_fold, weight=y_train_fold.map({0: train_w0, 1: train_w1}))\n",
    "    # 検証データをxgb用に変換\n",
    "    xgb_valid = xgb.DMatrix(data=X_valid_fold, label=y_valid_fold, weight=y_valid_fold.map({0: valid_w0, 1: valid_w1}))\n",
    "\n",
    "    # モデルのインスタンス生成\n",
    "    model = xgb.train(\n",
    "        xgb_params, \n",
    "        dtrain = xgb_train, \n",
    "        num_boost_round = num_boost_round,\n",
    "        evals = [(xgb_train, 'train'), (xgb_valid, 'eval')], \n",
    "        early_stopping_rounds = early_stopping_rounds,\n",
    "        verbose_eval = False, # 整数に設定すると、n回ごとのブースティングステージで評価メトリクスを表示\n",
    "    )\n",
    "    # 予測\n",
    "    preds = model.predict(xgb.DMatrix(X_valid_fold), iteration_range=(0, model.best_ntree_limit))\n",
    "    # 予測値をラベルに変換\n",
    "    # pred_labels = np.rint(preds)\n",
    "    # 評価\n",
    "    # val_score = balanced_log_loss(y_valid, pred_labels)\n",
    "    val_score = balanced_log_loss(y_valid_fold, preds)\n",
    "\n",
    "    scores.append(val_score)\n",
    "# クロスバリデーションの平均値を計算\n",
    "mean_score = np.mean(scores)\n",
    "mean_score"
   ]
  },
  {
   "cell_type": "markdown",
   "id": "c45ce303",
   "metadata": {},
   "source": [
    "### 特徴量重要度を確認"
   ]
  },
  {
   "cell_type": "code",
   "execution_count": 27,
   "id": "fa8bc389",
   "metadata": {},
   "outputs": [
    {
     "data": {
      "image/png": "[encoded data removed]",
      "text/plain": [
       "<Figure size 1000x800 with 1 Axes>"
      ]
     },
     "metadata": {},
     "output_type": "display_data"
    }
   ],
   "source": [
    "# 特徴量重要度をpandas.Seriesに格納\n",
    "importances = pd.Series(model.get_score(importance_type='gain')).sort_values(ascending=True)\n",
    "\n",
    "# 棒グラフを出力\n",
    "plt.figure(figsize=(10,8))\n",
    "importances.plot(kind='barh')\n",
    "plt.title('Feature Importance (XGBoost)')\n",
    "plt.xlabel('Importance')\n",
    "plt.show()"
   ]
  },
  {
   "cell_type": "markdown",
   "id": "5cd02be6",
   "metadata": {},
   "source": [
    "### DVとARは使われなかった"
   ]
  },
  {
   "cell_type": "code",
   "execution_count": 45,
   "id": "e2470255",
   "metadata": {},
   "outputs": [
    {
     "data": {
      "text/plain": [
       "['DV', 'AR']"
      ]
     },
     "execution_count": 45,
     "metadata": {},
     "output_type": "execute_result"
    }
   ],
   "source": [
    "# リストを集合に変換\n",
    "set1 = set(X_train.columns.tolist())\n",
    "set2 = set(importances.index.tolist())\n",
    "\n",
    "# 集合の差分を計算\n",
    "unique_to_list1 = set1 - set2  # list1にのみ存在する要素\n",
    "unique_to_list2 = set2 - set1  # list2にのみ存在する要素\n",
    "\n",
    "# 共通でない要素のリスト\n",
    "list(unique_to_list1) + list(unique_to_list2)"
   ]
  }
 ],
 "metadata": {
  "kernelspec": {
   "display_name": "Python 3 (ipykernel)",
   "language": "python",
   "name": "python3"
  },
  "language_info": {
   "codemirror_mode": {
    "name": "ipython",
    "version": 3
   },
   "file_extension": ".py",
   "mimetype": "text/x-python",
   "name": "python",
   "nbconvert_exporter": "python",
   "pygments_lexer": "ipython3",
   "version": "3.10.11"
  }
 },
 "nbformat": 4,
 "nbformat_minor": 5
}
