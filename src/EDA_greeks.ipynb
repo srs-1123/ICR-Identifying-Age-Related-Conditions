{
 "cells": [
  {
   "cell_type": "markdown",
   "metadata": {},
   "source": [
    "# EDA(greeksを含める)\n",
    "## 参考URL\n",
    "* <https://www.kaggle.com/code/ayushs9020/understanding-the-competition-icr-eda>\n",
    "* <https://www.kaggle.com/code/jasonheesanglee/updated-beginner-extreme-eda-on-greeks>"
   ]
  },
  {
   "cell_type": "code",
   "execution_count": null,
   "metadata": {
    "vscode": {
     "languageId": "plaintext"
    }
   },
   "outputs": [],
   "source": []
  }
 ],
 "metadata": {
  "language_info": {
   "name": "python"
  },
  "orig_nbformat": 4
 },
 "nbformat": 4,
 "nbformat_minor": 2
}
