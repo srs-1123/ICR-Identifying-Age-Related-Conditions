{
 "cells": [
  {
   "cell_type": "code",
   "execution_count": 1,
   "metadata": {},
   "outputs": [
    {
     "name": "stdout",
     "output_type": "stream",
     "text": [
      "pyenv: version `3.10.11' is not installed (set by /home/eringi/kaggle/.python-version)\n"
     ]
    }
   ],
   "source": [
    "# !pip download tabpfn[full] -d ./tabpfn/\n",
    "# !pip install tabpfn --no-index --find-links=file:///kaggle/input/tabpfn-full/\n",
    "# !pip install -q /kaggle/input/tabpfn-full/tabpfn-0.1.9-py3-none-any.whl # この書き方はだめ\n",
    "!pip install tabpfn --no-index --find-links=file:///kaggle/input/tabpfn-full/\n"
   ]
  },
  {
   "cell_type": "code",
   "execution_count": 2,
   "metadata": {},
   "outputs": [],
   "source": [
    "# ! ls ../input/tabpfn\n",
    "# ! ls /opt/conda/lib/python3.10/site-packages/tabpfn/models_diff"
   ]
  },
  {
   "cell_type": "code",
   "execution_count": 3,
   "metadata": {},
   "outputs": [],
   "source": [
    "# !mkdir /opt/conda/lib/python3.10/site-packages/tabpfn/models_diff\n",
    "# !cp /kaggle/input/tabpfn/prior_diff_real_checkpoint_n_0_epoch_100.cpkt /opt/conda/lib/python3.10/site-packages/tabpfn/models_diff/"
   ]
  },
  {
   "cell_type": "code",
   "execution_count": 4,
   "metadata": {},
   "outputs": [
    {
     "name": "stderr",
     "output_type": "stream",
     "text": [
      "/home/eringi/kaggle/.venv/lib/python3.10/site-packages/tqdm/auto.py:21: TqdmWarning: IProgress not found. Please update jupyter and ipywidgets. See https://ipywidgets.readthedocs.io/en/stable/user_install.html\n",
      "  from .autonotebook import tqdm as notebook_tqdm\n"
     ]
    },
    {
     "name": "stdout",
     "output_type": "stream",
     "text": [
      "python: 3.10.11 (main, May  7 2023, 19:24:25) [Clang 16.0.3 ]\n",
      "torch: 1.13.1+cu117\n"
     ]
    }
   ],
   "source": [
    "import os\n",
    "import sys\n",
    "import pandas as pd\n",
    "import numpy as np\n",
    "import matplotlib.pyplot as plt\n",
    "import seaborn as sns\n",
    "from sklearn.preprocessing import LabelEncoder\n",
    "from sklearn.model_selection import train_test_split\n",
    "import torch\n",
    "from torch import nn\n",
    "# from pytorch_tabnet.tab_model import TabNetClassifier\n",
    "# from tabpfn.scripts.transformer_prediction_interface import TabPFNClassifier\n",
    "from tabpfn import TabPFNClassifier\n",
    "\n",
    "print('python:', sys.version)\n",
    "print('torch:', torch.__version__)\n",
    "# print(torch.cuda.get_device_name(),'is available? ->', torch.cuda.is_available())\n",
    "# device = 'cuda' if torch.cuda.is_available() else 'cpu'\n",
    "device = 'cpu'\n",
    "BATCHSIZE = 8\n",
    "EPOCHS = 50\n"
   ]
  },
  {
   "cell_type": "code",
   "execution_count": 5,
   "metadata": {},
   "outputs": [],
   "source": [
    "train = pd.read_csv('./train.csv')\n",
    "test = pd.read_csv('./test.csv')\n",
    "train.info"
   ]
  },
  {
   "cell_type": "code",
   "execution_count": 6,
   "metadata": {},
   "outputs": [
    {
     "data": {
      "text/html": [
       "<div>\n",
       "<style scoped>\n",
       "    .dataframe tbody tr th:only-of-type {\n",
       "        vertical-align: middle;\n",
       "    }\n",
       "\n",
       "    .dataframe tbody tr th {\n",
       "        vertical-align: top;\n",
       "    }\n",
       "\n",
       "    .dataframe thead th {\n",
       "        text-align: right;\n",
       "    }\n",
       "</style>\n",
       "<table border=\"1\" class=\"dataframe\">\n",
       "  <thead>\n",
       "    <tr style=\"text-align: right;\">\n",
       "      <th></th>\n",
       "      <th>Id</th>\n",
       "      <th>AB</th>\n",
       "      <th>AF</th>\n",
       "      <th>AH</th>\n",
       "      <th>AM</th>\n",
       "      <th>AR</th>\n",
       "      <th>AX</th>\n",
       "      <th>AY</th>\n",
       "      <th>AZ</th>\n",
       "      <th>BC</th>\n",
       "      <th>...</th>\n",
       "      <th>FL</th>\n",
       "      <th>FR</th>\n",
       "      <th>FS</th>\n",
       "      <th>GB</th>\n",
       "      <th>GE</th>\n",
       "      <th>GF</th>\n",
       "      <th>GH</th>\n",
       "      <th>GI</th>\n",
       "      <th>GL</th>\n",
       "      <th>Class</th>\n",
       "    </tr>\n",
       "  </thead>\n",
       "  <tbody>\n",
       "    <tr>\n",
       "      <th>0</th>\n",
       "      <td>000ff2bfdfe9</td>\n",
       "      <td>0.209377</td>\n",
       "      <td>3109.03329</td>\n",
       "      <td>85.200147</td>\n",
       "      <td>22.394407</td>\n",
       "      <td>8.138688</td>\n",
       "      <td>0.699861</td>\n",
       "      <td>0.025578</td>\n",
       "      <td>9.812214</td>\n",
       "      <td>5.555634</td>\n",
       "      <td>...</td>\n",
       "      <td>7.298162</td>\n",
       "      <td>1.73855</td>\n",
       "      <td>0.094822</td>\n",
       "      <td>11.339138</td>\n",
       "      <td>72.611063</td>\n",
       "      <td>2003.810319</td>\n",
       "      <td>22.136229</td>\n",
       "      <td>69.834944</td>\n",
       "      <td>0.120343</td>\n",
       "      <td>1</td>\n",
       "    </tr>\n",
       "    <tr>\n",
       "      <th>1</th>\n",
       "      <td>007255e47698</td>\n",
       "      <td>0.145282</td>\n",
       "      <td>978.76416</td>\n",
       "      <td>85.200147</td>\n",
       "      <td>36.968889</td>\n",
       "      <td>8.138688</td>\n",
       "      <td>3.632190</td>\n",
       "      <td>0.025578</td>\n",
       "      <td>13.517790</td>\n",
       "      <td>1.229900</td>\n",
       "      <td>...</td>\n",
       "      <td>0.173229</td>\n",
       "      <td>0.49706</td>\n",
       "      <td>0.568932</td>\n",
       "      <td>9.292698</td>\n",
       "      <td>72.611063</td>\n",
       "      <td>27981.562750</td>\n",
       "      <td>29.135430</td>\n",
       "      <td>32.131996</td>\n",
       "      <td>21.978000</td>\n",
       "      <td>0</td>\n",
       "    </tr>\n",
       "    <tr>\n",
       "      <th>2</th>\n",
       "      <td>013f2bd269f5</td>\n",
       "      <td>0.470030</td>\n",
       "      <td>2635.10654</td>\n",
       "      <td>85.200147</td>\n",
       "      <td>32.360553</td>\n",
       "      <td>8.138688</td>\n",
       "      <td>6.732840</td>\n",
       "      <td>0.025578</td>\n",
       "      <td>12.824570</td>\n",
       "      <td>1.229900</td>\n",
       "      <td>...</td>\n",
       "      <td>7.709560</td>\n",
       "      <td>0.97556</td>\n",
       "      <td>1.198821</td>\n",
       "      <td>37.077772</td>\n",
       "      <td>88.609437</td>\n",
       "      <td>13676.957810</td>\n",
       "      <td>28.022851</td>\n",
       "      <td>35.192676</td>\n",
       "      <td>0.196941</td>\n",
       "      <td>0</td>\n",
       "    </tr>\n",
       "    <tr>\n",
       "      <th>3</th>\n",
       "      <td>043ac50845d5</td>\n",
       "      <td>0.252107</td>\n",
       "      <td>3819.65177</td>\n",
       "      <td>120.201618</td>\n",
       "      <td>77.112203</td>\n",
       "      <td>8.138688</td>\n",
       "      <td>3.685344</td>\n",
       "      <td>0.025578</td>\n",
       "      <td>11.053708</td>\n",
       "      <td>1.229900</td>\n",
       "      <td>...</td>\n",
       "      <td>6.122162</td>\n",
       "      <td>0.49706</td>\n",
       "      <td>0.284466</td>\n",
       "      <td>18.529584</td>\n",
       "      <td>82.416803</td>\n",
       "      <td>2094.262452</td>\n",
       "      <td>39.948656</td>\n",
       "      <td>90.493248</td>\n",
       "      <td>0.155829</td>\n",
       "      <td>0</td>\n",
       "    </tr>\n",
       "    <tr>\n",
       "      <th>4</th>\n",
       "      <td>044fb8a146ec</td>\n",
       "      <td>0.380297</td>\n",
       "      <td>3733.04844</td>\n",
       "      <td>85.200147</td>\n",
       "      <td>14.103738</td>\n",
       "      <td>8.138688</td>\n",
       "      <td>3.942255</td>\n",
       "      <td>0.054810</td>\n",
       "      <td>3.396778</td>\n",
       "      <td>102.151980</td>\n",
       "      <td>...</td>\n",
       "      <td>8.153058</td>\n",
       "      <td>48.50134</td>\n",
       "      <td>0.121914</td>\n",
       "      <td>16.408728</td>\n",
       "      <td>146.109943</td>\n",
       "      <td>8524.370502</td>\n",
       "      <td>45.381316</td>\n",
       "      <td>36.262628</td>\n",
       "      <td>0.096614</td>\n",
       "      <td>1</td>\n",
       "    </tr>\n",
       "  </tbody>\n",
       "</table>\n",
       "<p>5 rows × 58 columns</p>\n",
       "</div>"
      ],
      "text/plain": [
       "             Id        AB          AF          AH         AM        AR  \\\n",
       "0  000ff2bfdfe9  0.209377  3109.03329   85.200147  22.394407  8.138688   \n",
       "1  007255e47698  0.145282   978.76416   85.200147  36.968889  8.138688   \n",
       "2  013f2bd269f5  0.470030  2635.10654   85.200147  32.360553  8.138688   \n",
       "3  043ac50845d5  0.252107  3819.65177  120.201618  77.112203  8.138688   \n",
       "4  044fb8a146ec  0.380297  3733.04844   85.200147  14.103738  8.138688   \n",
       "\n",
       "         AX        AY         AZ          BC  ...        FL        FR  \\\n",
       "0  0.699861  0.025578   9.812214    5.555634  ...  7.298162   1.73855   \n",
       "1  3.632190  0.025578  13.517790    1.229900  ...  0.173229   0.49706   \n",
       "2  6.732840  0.025578  12.824570    1.229900  ...  7.709560   0.97556   \n",
       "3  3.685344  0.025578  11.053708    1.229900  ...  6.122162   0.49706   \n",
       "4  3.942255  0.054810   3.396778  102.151980  ...  8.153058  48.50134   \n",
       "\n",
       "         FS         GB          GE            GF         GH         GI  \\\n",
       "0  0.094822  11.339138   72.611063   2003.810319  22.136229  69.834944   \n",
       "1  0.568932   9.292698   72.611063  27981.562750  29.135430  32.131996   \n",
       "2  1.198821  37.077772   88.609437  13676.957810  28.022851  35.192676   \n",
       "3  0.284466  18.529584   82.416803   2094.262452  39.948656  90.493248   \n",
       "4  0.121914  16.408728  146.109943   8524.370502  45.381316  36.262628   \n",
       "\n",
       "          GL  Class  \n",
       "0   0.120343      1  \n",
       "1  21.978000      0  \n",
       "2   0.196941      0  \n",
       "3   0.155829      0  \n",
       "4   0.096614      1  \n",
       "\n",
       "[5 rows x 58 columns]"
      ]
     },
     "execution_count": 6,
     "metadata": {},
     "output_type": "execute_result"
    }
   ],
   "source": [
    "train.head()"
   ]
  },
  {
   "cell_type": "code",
   "execution_count": 7,
   "metadata": {},
   "outputs": [
    {
     "name": "stdout",
     "output_type": "stream",
     "text": [
      "0      22.5984\n",
      "1      19.4205\n",
      "2      26.4825\n",
      "3      23.6577\n",
      "4      24.0108\n",
      "        ...   \n",
      "612    21.1860\n",
      "613    27.1887\n",
      "614    20.4798\n",
      "615    19.0674\n",
      "616    21.1860\n",
      "Name: BN, Length: 617, dtype: float64\n"
     ]
    },
    {
     "data": {
      "text/plain": [
       "{'whiskers': [<matplotlib.lines.Line2D at 0x7f5ba1931b40>,\n",
       "  <matplotlib.lines.Line2D at 0x7f5ba1931de0>],\n",
       " 'caps': [<matplotlib.lines.Line2D at 0x7f5ba1932080>,\n",
       "  <matplotlib.lines.Line2D at 0x7f5ba1932320>],\n",
       " 'boxes': [<matplotlib.lines.Line2D at 0x7f5ba19318a0>],\n",
       " 'medians': [<matplotlib.lines.Line2D at 0x7f5ba19325c0>],\n",
       " 'fliers': [<matplotlib.lines.Line2D at 0x7f5ba1932860>],\n",
       " 'means': []}"
      ]
     },
     "execution_count": 7,
     "metadata": {},
     "output_type": "execute_result"
    },
    {
     "data": {
      "image/png": "[encoded data removed]",
      "text/plain": [
       "<Figure size 640x480 with 1 Axes>"
      ]
     },
     "metadata": {},
     "output_type": "display_data"
    }
   ],
   "source": [
    "BN = train['BN']\n",
    "print(BN)\n",
    "plt.boxplot(BN)"
   ]
  },
  {
   "cell_type": "code",
   "execution_count": 8,
   "metadata": {},
   "outputs": [
    {
     "data": {
      "text/plain": [
       "Class\n",
       "0    509\n",
       "1    108\n",
       "Name: count, dtype: int64"
      ]
     },
     "execution_count": 8,
     "metadata": {},
     "output_type": "execute_result"
    }
   ],
   "source": [
    "train.Class.value_counts()"
   ]
  },
  {
   "attachments": {},
   "cell_type": "markdown",
   "metadata": {},
   "source": [
    "* 学習データは617件\n",
    "* EJだけ数値ではない\n"
   ]
  },
  {
   "cell_type": "code",
   "execution_count": 9,
   "metadata": {},
   "outputs": [
    {
     "data": {
      "text/plain": [
       "<Axes: >"
      ]
     },
     "execution_count": 9,
     "metadata": {},
     "output_type": "execute_result"
    },
    {
     "data": {
      "image/png": "[encoded data removed]",
      "text/plain": [
       "<Figure size 640x480 with 1 Axes>"
      ]
     },
     "metadata": {},
     "output_type": "display_data"
    }
   ],
   "source": [
    "missing = train.isnull().sum()\n",
    "missing = missing[missing>0]\n",
    "missing.sort_values(inplace=True)\n",
    "missing.plot.bar()"
   ]
  },
  {
   "cell_type": "code",
   "execution_count": 10,
   "metadata": {},
   "outputs": [
    {
     "data": {
      "text/plain": [
       "DU     1\n",
       "FC     1\n",
       "FL     1\n",
       "GL     1\n",
       "CB     2\n",
       "FS     2\n",
       "CC     3\n",
       "BQ    60\n",
       "EL    60\n",
       "dtype: int64"
      ]
     },
     "execution_count": 10,
     "metadata": {},
     "output_type": "execute_result"
    }
   ],
   "source": [
    "missing"
   ]
  },
  {
   "cell_type": "code",
   "execution_count": 11,
   "metadata": {},
   "outputs": [],
   "source": [
    "#欠損値処理\n",
    "#欠損があるのは数値データのみ\n",
    "#ひとまず中央値で埋めてみる\n",
    "for k, v in missing.items():\n",
    "    train[k] = train[k].fillna(train[k].mean())"
   ]
  },
  {
   "cell_type": "code",
   "execution_count": 12,
   "metadata": {},
   "outputs": [
    {
     "data": {
      "text/plain": [
       "array(['B', 'A'], dtype=object)"
      ]
     },
     "execution_count": 12,
     "metadata": {},
     "output_type": "execute_result"
    }
   ],
   "source": [
    "#EJ列のカテゴリ数\n",
    "EJ_categories = train['EJ'].unique()\n",
    "EJ_categories\n",
    "# output: array(['B', 'A'], dtype=object)"
   ]
  },
  {
   "cell_type": "code",
   "execution_count": 13,
   "metadata": {},
   "outputs": [
    {
     "data": {
      "text/plain": [
       "0      1\n",
       "1      0\n",
       "2      1\n",
       "3      1\n",
       "4      1\n",
       "      ..\n",
       "612    0\n",
       "613    1\n",
       "614    0\n",
       "615    1\n",
       "616    0\n",
       "Name: labeled_EJ, Length: 617, dtype: int64"
      ]
     },
     "execution_count": 13,
     "metadata": {},
     "output_type": "execute_result"
    }
   ],
   "source": [
    "# EJ列を2値化\n",
    "LE = LabelEncoder()\n",
    "train['labeled_EJ'] = LE.fit_transform(train['EJ'].values)\n",
    "test['labeled_EJ'] = LE.fit_transform(test['EJ'].values)\n",
    "train['labeled_EJ']"
   ]
  },
  {
   "cell_type": "code",
   "execution_count": 14,
   "metadata": {},
   "outputs": [],
   "source": [
    "# train_class1 = train[train['Class']==1]\n",
    "# train_class0 = train[train['Class']==0]\n",
    "\n",
    "# train_class0 = train_class0.sample(n=len(train_class1)*2, random_state=5)\n",
    "# train = pd.concat([train_class0, train_class1])\n",
    "# train\n"
   ]
  },
  {
   "attachments": {},
   "cell_type": "markdown",
   "metadata": {},
   "source": [
    "* class1の数をclass0に合わせると過学習\n",
    "* データは全部使う方針で"
   ]
  },
  {
   "cell_type": "code",
   "execution_count": 15,
   "metadata": {},
   "outputs": [],
   "source": [
    "#外れ値を調べる\n",
    "#全部グラフ化するのめんどいので四分位数だけ調べる\n",
    "\n",
    "cols = train.columns\n",
    "cols = cols.drop(['Id', 'EJ', 'Class'])\n",
    "\n",
    "train_quantitative = train[cols]\n",
    "test_x = test[cols]\n",
    "\n",
    "first_quartiles = train_quantitative.quantile(0.25)\n",
    "third_quartiles = train_quantitative.quantile(0.75)\n",
    "\n",
    "iqr = third_quartiles - first_quartiles\n",
    "\n",
    "lower_bound = first_quartiles - (iqr * 1.5) #外れ値の下限\n",
    "upper_bound = third_quartiles + (iqr * 1.5) #外れ値の上限\n",
    "\n",
    "# train[cols] = train[(train[cols] > lower_bound) | (train[cols] < upper_bound)]\n",
    "train_quantitative = train_quantitative.clip(lower_bound, upper_bound, axis=1)"
   ]
  },
  {
   "cell_type": "code",
   "execution_count": 16,
   "metadata": {},
   "outputs": [
    {
     "data": {
      "text/plain": [
       "<Axes: >"
      ]
     },
     "execution_count": 16,
     "metadata": {},
     "output_type": "execute_result"
    },
    {
     "data": {
      "image/png": "[encoded data removed]",
      "text/plain": [
       "<Figure size 1000x1500 with 2 Axes>"
      ]
     },
     "metadata": {},
     "output_type": "display_data"
    }
   ],
   "source": [
    "plt.figure(1, figsize=(10,15))\n",
    "corr = train_quantitative.corr()\n",
    "sns.heatmap(corr)\n",
    "#quantitativeとqualitativeの列の相関\n",
    "# plt.figure(2, figsize=(10,15))\n",
    "# plt.figure(3, figsize=(10,15))\n",
    "# corr = pd.DataFrame(np.zeros([len(quantitative)+1, len(qual_encoded)+1]), index=quantitative+['SalePrice'], columns=qual_encoded+['SalePrice'])\n",
    "# for q1 in quantitative+['SalePrice']:\n",
    "#     for q2 in qual_encoded+['SalePrice']:\n",
    "#         corr.loc[q1, q2] = train[q1].corr(train[q2])\n",
    "# sns.heatmap(corr)"
   ]
  },
  {
   "cell_type": "code",
   "execution_count": 17,
   "metadata": {},
   "outputs": [],
   "source": [
    "# データ分割\n",
    "x = train_quantitative\n",
    "y = train['Class']\n",
    "train_val_x, test_x, train_val_y, test_y = train_test_split(train_quantitative, y, train_size=0.8, shuffle=True, random_state=20)\n",
    "train_x, val_x, train_y, val_y = train_test_split(train_val_x, train_val_y, train_size=0.8, shuffle=True, random_state=20)"
   ]
  },
  {
   "cell_type": "code",
   "execution_count": 18,
   "metadata": {},
   "outputs": [
    {
     "name": "stdout",
     "output_type": "stream",
     "text": [
      "Loading model that can be used for inference only\n",
      "Using a Transformer with 25.82 M parameters\n"
     ]
    },
    {
     "data": {
      "text/html": [
       "<style>#sk-container-id-1 {color: black;background-color: white;}#sk-container-id-1 pre{padding: 0;}#sk-container-id-1 div.sk-toggleable {background-color: white;}#sk-container-id-1 label.sk-toggleable__label {cursor: pointer;display: block;width: 100%;margin-bottom: 0;padding: 0.3em;box-sizing: border-box;text-align: center;}#sk-container-id-1 label.sk-toggleable__label-arrow:before {content: \"▸\";float: left;margin-right: 0.25em;color: #696969;}#sk-container-id-1 label.sk-toggleable__label-arrow:hover:before {color: black;}#sk-container-id-1 div.sk-estimator:hover label.sk-toggleable__label-arrow:before {color: black;}#sk-container-id-1 div.sk-toggleable__content {max-height: 0;max-width: 0;overflow: hidden;text-align: left;background-color: #f0f8ff;}#sk-container-id-1 div.sk-toggleable__content pre {margin: 0.2em;color: black;border-radius: 0.25em;background-color: #f0f8ff;}#sk-container-id-1 input.sk-toggleable__control:checked~div.sk-toggleable__content {max-height: 200px;max-width: 100%;overflow: auto;}#sk-container-id-1 input.sk-toggleable__control:checked~label.sk-toggleable__label-arrow:before {content: \"▾\";}#sk-container-id-1 div.sk-estimator input.sk-toggleable__control:checked~label.sk-toggleable__label {background-color: #d4ebff;}#sk-container-id-1 div.sk-label input.sk-toggleable__control:checked~label.sk-toggleable__label {background-color: #d4ebff;}#sk-container-id-1 input.sk-hidden--visually {border: 0;clip: rect(1px 1px 1px 1px);clip: rect(1px, 1px, 1px, 1px);height: 1px;margin: -1px;overflow: hidden;padding: 0;position: absolute;width: 1px;}#sk-container-id-1 div.sk-estimator {font-family: monospace;background-color: #f0f8ff;border: 1px dotted black;border-radius: 0.25em;box-sizing: border-box;margin-bottom: 0.5em;}#sk-container-id-1 div.sk-estimator:hover {background-color: #d4ebff;}#sk-container-id-1 div.sk-parallel-item::after {content: \"\";width: 100%;border-bottom: 1px solid gray;flex-grow: 1;}#sk-container-id-1 div.sk-label:hover label.sk-toggleable__label {background-color: #d4ebff;}#sk-container-id-1 div.sk-serial::before {content: \"\";position: absolute;border-left: 1px solid gray;box-sizing: border-box;top: 0;bottom: 0;left: 50%;z-index: 0;}#sk-container-id-1 div.sk-serial {display: flex;flex-direction: column;align-items: center;background-color: white;padding-right: 0.2em;padding-left: 0.2em;position: relative;}#sk-container-id-1 div.sk-item {position: relative;z-index: 1;}#sk-container-id-1 div.sk-parallel {display: flex;align-items: stretch;justify-content: center;background-color: white;position: relative;}#sk-container-id-1 div.sk-item::before, #sk-container-id-1 div.sk-parallel-item::before {content: \"\";position: absolute;border-left: 1px solid gray;box-sizing: border-box;top: 0;bottom: 0;left: 50%;z-index: -1;}#sk-container-id-1 div.sk-parallel-item {display: flex;flex-direction: column;z-index: 1;position: relative;background-color: white;}#sk-container-id-1 div.sk-parallel-item:first-child::after {align-self: flex-end;width: 50%;}#sk-container-id-1 div.sk-parallel-item:last-child::after {align-self: flex-start;width: 50%;}#sk-container-id-1 div.sk-parallel-item:only-child::after {width: 0;}#sk-container-id-1 div.sk-dashed-wrapped {border: 1px dashed gray;margin: 0 0.4em 0.5em 0.4em;box-sizing: border-box;padding-bottom: 0.4em;background-color: white;}#sk-container-id-1 div.sk-label label {font-family: monospace;font-weight: bold;display: inline-block;line-height: 1.2em;}#sk-container-id-1 div.sk-label-container {text-align: center;}#sk-container-id-1 div.sk-container {/* jupyter's `normalize.less` sets `[hidden] { display: none; }` but bootstrap.min.css set `[hidden] { display: none !important; }` so we also need the `!important` here to be able to override the default hidden behavior on the sphinx rendered scikit-learn.org. See: https://github.com/scikit-learn/scikit-learn/issues/21755 */display: inline-block !important;position: relative;}#sk-container-id-1 div.sk-text-repr-fallback {display: none;}</style><div id=\"sk-container-id-1\" class=\"sk-top-container\"><div class=\"sk-text-repr-fallback\"><pre>TabPFNClassifier(N_ensemble_configurations=32)</pre><b>In a Jupyter environment, please rerun this cell to show the HTML representation or trust the notebook. <br />On GitHub, the HTML representation is unable to render, please try loading this page with nbviewer.org.</b></div><div class=\"sk-container\" hidden><div class=\"sk-item\"><div class=\"sk-estimator sk-toggleable\"><input class=\"sk-toggleable__control sk-hidden--visually\" id=\"sk-estimator-id-1\" type=\"checkbox\" checked><label for=\"sk-estimator-id-1\" class=\"sk-toggleable__label sk-toggleable__label-arrow\">TabPFNClassifier</label><div class=\"sk-toggleable__content\"><pre>TabPFNClassifier(N_ensemble_configurations=32)</pre></div></div></div></div></div>"
      ],
      "text/plain": [
       "TabPFNClassifier(N_ensemble_configurations=32)"
      ]
     },
     "execution_count": 18,
     "metadata": {},
     "output_type": "execute_result"
    }
   ],
   "source": [
    "# 学習\n",
    "\n",
    "class BLloss(nn.Module):\n",
    "    def __init__(self) -> None:\n",
    "        super().__init__()\n",
    "\n",
    "    def forward(self, preds, y):\n",
    "        softmax_preds = nn.Softmax(dim=-1)(preds)\n",
    "        N_0 = N_1 = 0\n",
    "        y_0 = y_1 = [0]*BATCHSIZE\n",
    "\n",
    "        for i, p in enumerate(softmax_preds):\n",
    "            if p[0] > p[1]:\n",
    "                N_0 += 1\n",
    "            else:\n",
    "                N_1 += 1\n",
    "        for i, cls in enumerate(y):\n",
    "            if cls == 0: y_0[i] = 1\n",
    "            else: y_1[i] = 1\n",
    "\n",
    "        loss_0 = loss_1 = 0\n",
    "        total_loss = 0\n",
    "\n",
    "        if N_0 == 0:\n",
    "            total_loss =  1/N_1 * (torch.tensor(y_1).to(device=device) * torch.log(softmax_preds[:, 1]))\n",
    "        elif N_1 == 0:\n",
    "            total_loss = 1/N_0 * (torch.tensor(y_0).to(device=device) * torch.log(softmax_preds[:, 0]))\n",
    "        else:\n",
    "            loss_0 = 1/N_0 * (torch.tensor(y_0).to(device=device) * torch.log(softmax_preds[:, 0]))\n",
    "            loss_1 = 1/N_1 * (torch.tensor(y_1).to(device=device) * torch.log(softmax_preds[:, 1]))\n",
    "\n",
    "            total_loss = loss_0 + loss_1\n",
    "\n",
    "        return -total_loss.sum()/2\n",
    "\n",
    "# clf = TabNetClassifier(\n",
    "#     optimizer_fn=torch.optim.Adadelta,\n",
    "#     optimizer_params=dict(lr=1e-4),\n",
    "#     scheduler_params={\n",
    "#         'step_size': 20,\n",
    "#         'gamma': 0.8\n",
    "#     },\n",
    "#     scheduler_fn=torch.optim.lr_scheduler.StepLR,\n",
    "# )\n",
    "\n",
    "tabpfn_clf = TabPFNClassifier(\n",
    "    device=device,\n",
    "    N_ensemble_configurations=32\n",
    ")\n",
    "\n",
    "criterion = BLloss()\n",
    "# clf.fit(\n",
    "#     X_train=train_x.to_numpy(), y_train=train_y.to_numpy(),\n",
    "#     eval_set=[(val_x.to_numpy(), val_y.to_numpy())],\n",
    "#     eval_metric=['logloss'],\n",
    "#     batch_size=BATCHSIZE,\n",
    "#     max_epochs=EPOCHS,\n",
    "#     loss_fn=criterion\n",
    "# )\n",
    "\n",
    "tabpfn_clf.fit(train_val_x.to_numpy(), train_val_y.to_numpy())"
   ]
  },
  {
   "cell_type": "code",
   "execution_count": 19,
   "metadata": {},
   "outputs": [
    {
     "name": "stdout",
     "output_type": "stream",
     "text": [
      "[[1.98386863e-01 8.01613152e-01]\n",
      " [9.88977730e-01 1.10222995e-02]\n",
      " [9.91901934e-01 8.09803791e-03]\n",
      " [9.80953932e-01 1.90460887e-02]\n",
      " [8.46098900e-01 1.53901085e-01]\n",
      " [9.99843121e-01 1.56798778e-04]\n",
      " [9.99454916e-01 5.45073184e-04]\n",
      " [9.98373866e-01 1.62615185e-03]\n",
      " [9.42191839e-01 5.78081533e-02]\n",
      " [5.38268387e-02 9.46173191e-01]\n",
      " [9.98606503e-01 1.39353354e-03]\n",
      " [8.93419683e-01 1.06580295e-01]\n",
      " [9.30518627e-01 6.94813877e-02]\n",
      " [9.99693632e-01 3.06428265e-04]\n",
      " [1.63265452e-01 8.36734593e-01]\n",
      " [1.45022050e-01 8.54977965e-01]\n",
      " [9.79577243e-01 2.04226952e-02]\n",
      " [9.98792529e-01 1.20745425e-03]\n",
      " [9.95309651e-01 4.69034491e-03]\n",
      " [9.76926386e-01 2.30736211e-02]\n",
      " [9.99900460e-01 9.95760856e-05]\n",
      " [9.78931069e-01 2.10689828e-02]\n",
      " [9.99633312e-01 3.66618711e-04]\n",
      " [9.97168958e-01 2.83099199e-03]\n",
      " [9.91469562e-01 8.53041001e-03]\n",
      " [8.15835953e-01 1.84164003e-01]\n",
      " [9.99348104e-01 6.51917187e-04]\n",
      " [9.86494541e-01 1.35054793e-02]\n",
      " [6.80404436e-03 9.93196011e-01]\n",
      " [9.90407765e-01 9.59220435e-03]\n",
      " [9.83178735e-01 1.68212857e-02]\n",
      " [9.97851133e-01 2.14894232e-03]\n",
      " [9.99639153e-01 3.60818027e-04]\n",
      " [9.80344176e-01 1.96558498e-02]\n",
      " [9.99196589e-01 8.03469797e-04]\n",
      " [2.90421396e-03 9.97095823e-01]\n",
      " [9.90833223e-01 9.16684233e-03]\n",
      " [9.95992720e-01 4.00735810e-03]\n",
      " [2.67745554e-01 7.32254505e-01]\n",
      " [9.72181141e-01 2.78187990e-02]\n",
      " [9.99390244e-01 6.09782233e-04]\n",
      " [9.99670863e-01 3.29157716e-04]\n",
      " [9.99753058e-01 2.46887066e-04]\n",
      " [4.82163370e-01 5.17836630e-01]\n",
      " [9.98876512e-01 1.12343812e-03]\n",
      " [9.99813378e-01 1.86594756e-04]\n",
      " [9.51905906e-01 4.80940528e-02]\n",
      " [9.57109809e-01 4.28901426e-02]\n",
      " [9.98971224e-01 1.02881307e-03]\n",
      " [9.92631435e-01 7.36856274e-03]\n",
      " [9.25979972e-01 7.40199909e-02]\n",
      " [4.07884419e-02 9.59211528e-01]\n",
      " [9.86740768e-01 1.32592246e-02]\n",
      " [9.99905586e-01 9.44096682e-05]\n",
      " [8.58801126e-01 1.41198814e-01]\n",
      " [8.66137445e-01 1.33862510e-01]\n",
      " [9.99886751e-01 1.13283633e-04]\n",
      " [9.98157442e-01 1.84255489e-03]\n",
      " [7.66434729e-01 2.33565345e-01]\n",
      " [7.90110230e-01 2.09889755e-01]\n",
      " [9.42862570e-01 5.71374297e-02]\n",
      " [9.74986255e-01 2.50137374e-02]\n",
      " [9.95177150e-01 4.82288329e-03]\n",
      " [5.75966388e-02 9.42403316e-01]\n",
      " [9.99775350e-01 2.24603020e-04]\n",
      " [9.99709308e-01 2.90640368e-04]\n",
      " [9.99865770e-01 1.34157119e-04]\n",
      " [9.35955405e-01 6.40445873e-02]\n",
      " [9.99278247e-01 7.21744320e-04]\n",
      " [9.99885321e-01 1.14607450e-04]\n",
      " [9.96713161e-01 3.28684854e-03]\n",
      " [9.86553490e-01 1.34465620e-02]\n",
      " [9.78863180e-01 2.11368110e-02]\n",
      " [8.52527499e-01 1.47472486e-01]\n",
      " [9.95522141e-01 4.47785063e-03]\n",
      " [9.99628901e-01 3.71104950e-04]\n",
      " [9.99694824e-01 3.05243302e-04]\n",
      " [9.99868512e-01 1.31426699e-04]\n",
      " [9.97180462e-01 2.81960680e-03]\n",
      " [9.31494892e-01 6.85051382e-02]\n",
      " [9.97091293e-01 2.90868408e-03]\n",
      " [9.99723852e-01 2.76114180e-04]\n",
      " [9.96921837e-01 3.07807676e-03]\n",
      " [9.98005569e-01 1.99444289e-03]\n",
      " [9.93736744e-01 6.26322394e-03]\n",
      " [9.99451101e-01 5.48840093e-04]\n",
      " [1.62556127e-01 8.37443829e-01]\n",
      " [1.22024585e-02 9.87797558e-01]\n",
      " [8.63746643e-01 1.36253342e-01]\n",
      " [9.98058736e-01 1.94129767e-03]\n",
      " [9.99694824e-01 3.05195572e-04]\n",
      " [9.87700105e-01 1.22999176e-02]\n",
      " [9.99234080e-01 7.65958044e-04]\n",
      " [9.97527063e-01 2.47290079e-03]\n",
      " [9.46269929e-01 5.37300706e-02]\n",
      " [9.92702961e-01 7.29702786e-03]\n",
      " [9.99244452e-01 7.55581306e-04]\n",
      " [9.99628544e-01 3.71465809e-04]\n",
      " [9.99608099e-01 3.91985232e-04]\n",
      " [5.72170079e-01 4.27829981e-01]\n",
      " [9.78091538e-01 2.19084509e-02]\n",
      " [9.99430358e-01 5.69601310e-04]\n",
      " [7.93144345e-01 2.06855625e-01]\n",
      " [9.94208574e-01 5.79139357e-03]\n",
      " [9.99274075e-01 7.25925900e-04]\n",
      " [3.89299184e-01 6.10700905e-01]\n",
      " [9.62668002e-01 3.73320468e-02]\n",
      " [9.92259562e-01 7.74041843e-03]\n",
      " [9.61650133e-01 3.83498147e-02]\n",
      " [9.99815762e-01 1.84220364e-04]\n",
      " [7.23326683e-01 2.76673347e-01]\n",
      " [9.92188215e-01 7.81182991e-03]\n",
      " [9.99548018e-01 4.52004897e-04]\n",
      " [9.99871612e-01 1.28360698e-04]\n",
      " [9.96989071e-01 3.01100221e-03]\n",
      " [9.99677300e-01 3.22764390e-04]\n",
      " [1.08162090e-02 9.89183784e-01]\n",
      " [7.46304631e-01 2.53695399e-01]\n",
      " [9.97203588e-01 2.79645692e-03]\n",
      " [7.89676130e-01 2.10323885e-01]\n",
      " [9.84989047e-01 1.50109474e-02]\n",
      " [9.98720944e-01 1.27907598e-03]\n",
      " [9.99597132e-01 4.02829930e-04]\n",
      " [6.46008598e-03 9.93539989e-01]]\n"
     ]
    }
   ],
   "source": [
    "# 全部0を出すという論外な結果に\n",
    "# 出してないけどたぶんrecallはほぼ0\n",
    "# preds = clf.predict(test_x.to_numpy())\n",
    "# tabpfn_preds, tabpfn_probs = tabpfn_clf.predict(test_x.to_numpy(), return_winning_probability=True)\n",
    "proba = tabpfn_clf.predict_proba(test_x.to_numpy())\n",
    "print(proba)\n",
    "correct_cnt = 0\n",
    "# for pred, ans in zip(tabpfn_preds, test_y):\n",
    "#     # print(pred, ans)\n",
    "#     if pred == ans: correct_cnt += 1\n",
    "\n",
    "# print(\"acculacy is \", correct_cnt / len(test_y))\n",
    "# print(tabpfn_probs)"
   ]
  },
  {
   "cell_type": "code",
   "execution_count": 20,
   "metadata": {},
   "outputs": [],
   "source": [
    "# ここからtest.csvの加工\n",
    "\n",
    "test_quantitative = test[cols]\n",
    "\n",
    "first_quartiles = test_quantitative.quantile(0.25)\n",
    "third_quartiles = test_quantitative.quantile(0.75)\n",
    "\n",
    "iqr = third_quartiles - first_quartiles\n",
    "\n",
    "lower_bound = first_quartiles - (iqr * 1.5) #外れ値の下限\n",
    "upper_bound = third_quartiles + (iqr * 1.5) #外れ値の上限\n",
    "\n",
    "# train[cols] = train[(train[cols] > lower_bound) | (train[cols] < upper_bound)]\n",
    "test_quantitative = test_quantitative.clip(lower_bound, upper_bound, axis=1)\n",
    "\n",
    "test_proba = tabpfn_clf.predict_proba(test_quantitative.to_numpy())"
   ]
  },
  {
   "cell_type": "code",
   "execution_count": 21,
   "metadata": {},
   "outputs": [],
   "source": [
    "# probs = clf.predict_proba(test_x.to_numpy())\n",
    "submit_df = pd.DataFrame(columns=['Id', 'class_0', 'class_1'])\n",
    "submit_df['Id'] = test['Id']\n",
    "submit_df['class_0'] = test_proba[:, 0]\n",
    "submit_df['class_1'] = test_proba[:, 1]\n",
    "submit_df.to_csv('submission.csv', index=False)"
   ]
  },
  {
   "cell_type": "code",
   "execution_count": null,
   "metadata": {},
   "outputs": [],
   "source": []
  }
 ],
 "metadata": {
  "kernelspec": {
   "display_name": "Python 3",
   "language": "python",
   "name": "python3"
  },
  "language_info": {
   "codemirror_mode": {
    "name": "ipython",
    "version": 3
   },
   "file_extension": ".py",
   "mimetype": "text/x-python",
   "name": "python",
   "nbconvert_exporter": "python",
   "pygments_lexer": "ipython3",
   "version": "3.10.11"
  },
  "orig_nbformat": 4
 },
 "nbformat": 4,
 "nbformat_minor": 2
}
