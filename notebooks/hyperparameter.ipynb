{
 "cells": [
  {
   "cell_type": "code",
   "execution_count": 1,
   "id": "c565dfec",
   "metadata": {},
   "outputs": [],
   "source": [
    "import numpy as np\n",
    "import pandas as pd\n",
    "from sklearn.metrics import log_loss\n",
    "import lightgbm as lgb\n",
    "from sklearn.model_selection import StratifiedKFold\n",
    "import optuna\n",
    "import warnings\n",
    "from tqdm import tqdm_notebook as tqdm\n",
    "warnings.simplefilter('ignore')"
   ]
  },
  {
   "cell_type": "code",
   "execution_count": 2,
   "id": "effab245",
   "metadata": {},
   "outputs": [],
   "source": [
    "# 設定値\n",
    "class CFG:\n",
    "    # 変更するパラメータ\n",
    "    n_folds = 5 # 公差検証の分割数(多くて20)\n",
    "    n_trials = 20 # ハイパーパラメータチューニングの試行回数(100)\n",
    "    device_type = \"cpu\"\n",
    "    # device_type = \"cuda\"\n",
    "    boosting_type = \"gbdt\"\n",
    "    # boosting_type = \"dart\"\n",
    "    \n",
    "    \n",
    "    # その他設定値\n",
    "    learning_rate = 0.01\n",
    "    seed = 3407 \n",
    "    target_col = 'Class'\n",
    "    num_boost_round = 50500\n",
    "    early_stopping_round = 300\n",
    "    verbose_eval = 0  # この数字を1にすると学習時のスコア推移がコマンドライン表示される"
   ]
  },
  {
   "cell_type": "code",
   "execution_count": 3,
   "id": "5341650c",
   "metadata": {},
   "outputs": [],
   "source": [
    "train_df = pd.read_csv(\"../data/train.csv\")\n",
    "test_df = pd.read_csv(\"../data/test.csv\")\n",
    "test_df[CFG.target_col] = -1\n",
    "submission_df = pd.read_csv(\"../data/sample_submission.csv\")\n",
    "all_df = pd.concat([train_df, test_df])"
   ]
  },
  {
   "cell_type": "markdown",
   "id": "7f928f11",
   "metadata": {},
   "source": [
    "BC, CLはいらんかも"
   ]
  },
  {
   "cell_type": "code",
   "execution_count": 4,
   "id": "6800fb2a",
   "metadata": {},
   "outputs": [],
   "source": [
    "numerical_features = ['AB', 'AF', 'AH', 'AM', 'AR', 'AX', 'AY', 'AZ', 'BC', 'BD ', 'BN',\n",
    "       'BP', 'BQ', 'BR', 'BZ', 'CB', 'CC', 'CD ', 'CF', 'CH', 'CL', 'CR', 'CS',\n",
    "       'CU', 'CW ', 'DA', 'DE', 'DF', 'DH', 'DI', 'DL', 'DN', 'DU', 'DV', 'DY',\n",
    "       'EB', 'EE', 'EG', 'EH', 'EL', 'EP', 'EU', 'FC', 'FD ', 'FE', 'FI',\n",
    "       'FL', 'FR', 'FS', 'GB', 'GE', 'GF', 'GH', 'GI', 'GL']\n",
    "categorical_features = ['EJ']\n",
    "features = numerical_features + categorical_features"
   ]
  },
  {
   "cell_type": "markdown",
   "id": "8910afd9",
   "metadata": {},
   "source": [
    "### balanced loglossの計算（学習で使う？）"
   ]
  },
  {
   "cell_type": "code",
   "execution_count": 5,
   "id": "0721bb0a",
   "metadata": {},
   "outputs": [],
   "source": [
    "# 前処理\n",
    "def Preprocessing(input_df: pd.DataFrame)->pd.DataFrame:\n",
    "    output_df = input_df.copy()\n",
    "    output_df['EJ'] = input_df['EJ'].replace({'A': 0, 'B': 1})\n",
    "    return output_df\n",
    "\n",
    "all_df = Preprocessing(all_df)\n",
    "\n",
    "train_df = all_df[all_df[CFG.target_col] != -1].copy()\n",
    "test_df = all_df[all_df[CFG.target_col] == -1].copy()"
   ]
  },
  {
   "cell_type": "code",
   "execution_count": 14,
   "id": "8a5b023e",
   "metadata": {},
   "outputs": [
    {
     "data": {
      "text/plain": [
       "'\\n# 重み計算\\ndef calc_log_loss_weight(y_true):\\n    nc = np.bincount(y_true)\\n    w0, w1 = 1/(nc[0]/y_true.shape[0]), 1/(nc[1]/y_true.shape[0])\\n    return w0, w1\\n'"
      ]
     },
     "execution_count": 14,
     "metadata": {},
     "output_type": "execute_result"
    }
   ],
   "source": [
    "# 評価基準\n",
    "def balanced_log_loss(y_true, y_pred):\n",
    "    N = len(y_true)\n",
    "\n",
    "    # Nc is the number of observations\n",
    "    N_1 = np.sum(y_true == 1, axis=0)\n",
    "    N_0 = np.sum(y_true == 0, axis=0)\n",
    "\n",
    "    # In order to avoid the extremes of the log function, each predicted probability 𝑝 is replaced with max(min(𝑝,1−10−15),10−15)\n",
    "    y_pred = np.maximum(np.minimum(y_pred, 1 - 1e-15), 1e-15)\n",
    "\n",
    "    # balanced logarithmic loss\n",
    "    loss_numerator = - (1/N_0) * np.sum((1 - y_true) * np.log(1-y_pred)) - (1/N_1) * np.sum(y_true * np.log(y_pred))\n",
    "\n",
    "    return loss_numerator / 2\n",
    "\n",
    "\"\"\"\n",
    "# 重み計算\n",
    "def calc_log_loss_weight(y_true):\n",
    "    nc = np.bincount(y_true)\n",
    "    w0, w1 = 1/(nc[0]/y_true.shape[0]), 1/(nc[1]/y_true.shape[0])\n",
    "    return w0, w1\n",
    "\"\"\""
   ]
  },
  {
   "cell_type": "code",
   "execution_count": 17,
   "id": "47f5345e",
   "metadata": {},
   "outputs": [],
   "source": [
    "def objective(trial):\n",
    "    # light-gbm設定値\n",
    "    lgb_params = {\n",
    "        # 探索するパラメータ\n",
    "        'verbosity': -1, # 学習途中の情報を表示するかどうか\n",
    "        \"lambda_l1\": trial.suggest_float(\"lambda_l1\", 1e-8, 10.0, log=True),\n",
    "        \"lambda_l2\": trial.suggest_float(\"lambda_l2\", 1e-8, 10.0, log=True),\n",
    "        \"num_leaves\": trial.suggest_int(\"num_leaves\", 2, 256),\n",
    "        \"feature_fraction\": trial.suggest_float(\"feature_fraction\", 0.2, 1.0),\n",
    "        \"bagging_fraction\": trial.suggest_float(\"bagging_fraction\", 0.2, 1.0),\n",
    "        # \"bagging_freq\": trial.suggest_int(\"bagging_freq\", 1, 7),\n",
    "        \"min_child_samples\": trial.suggest_int(\"min_child_samples\", 5, 100),\n",
    "        \n",
    "        # 固定値\n",
    "        \"boosting_type\": CFG.boosting_type,\n",
    "        \"device_type\": CFG.device_type,\n",
    "        \"objective\": \"binary\",\n",
    "        \"learning_rate\": CFG.learning_rate,\n",
    "        \"metric\": \"binary_logloss\",\n",
    "        'seed': CFG.seed,\n",
    "        'n_jobs': -1, # -1でコア数をマックスで使う\n",
    "        'is_unbalance':True, # 不均衡データの場合にTrueにする\n",
    "    }\n",
    "    \n",
    "    scores = []\n",
    "    # K-分割交差検証(層化抽出法)\n",
    "    kfold = StratifiedKFold(n_splits = CFG.n_folds, shuffle = True, random_state = CFG.seed)\n",
    "    pbar = tqdm(enumerate(kfold.split(train_df, train_df[CFG.target_col])))\n",
    "    for fold, (train_index, valid_index) in pbar:\n",
    "    # for fold, (train_index, valid_index) in enumerate(kfold.split(train_df, train_df[CFG.target_col])):\n",
    "        # 現在の試行回数を出力\n",
    "        pbar.set_description(\"[train] trials {}\".format(trial.number+1))\n",
    "        \n",
    "        x_train = train_df[features].iloc[train_index]\n",
    "        y_train = train_df[CFG.target_col].iloc[train_index]\n",
    "        x_valid = train_df[features].iloc[valid_index]\n",
    "        y_valid = train_df[CFG.target_col].iloc[valid_index]\n",
    "        \n",
    "        # 訓練データの重みを計算\n",
    "        # train_w0, train_w1 = calc_log_loss_weight(y_train)\n",
    "        # 検証データの重みを計算\n",
    "        # valid_w0, valid_w1 = calc_log_loss_weight(y_valid)\n",
    "        # 訓練データをlgb用に変換\n",
    "        # lgb_train = lgb.Dataset(x_train, y_train, weight=y_train.map({0: train_w0, 1: train_w1}), categorical_feature=categorical_features)\n",
    "        lgb_train = lgb.Dataset(x_train, y_train, categorical_feature=categorical_features)\n",
    "        # 検証データをlgb用に変換\n",
    "        # lgb_valid = lgb.Dataset(x_valid, y_valid, weight=y_valid.map({0: valid_w0, 1: valid_w1}), categorical_feature=categorical_features)\n",
    "        lgb_valid = lgb.Dataset(x_valid, y_valid, categorical_feature=categorical_features)\n",
    "        \n",
    "        model = lgb.train(\n",
    "                    params = lgb_params,\n",
    "                    train_set = lgb_train,\n",
    "                    num_boost_round = CFG.num_boost_round,\n",
    "                    valid_sets = [lgb_train, lgb_valid],\n",
    "                    early_stopping_rounds = CFG.early_stopping_round,\n",
    "                    verbose_eval = CFG.verbose_eval,\n",
    "                    # 学習段階でbalanced_log_lossを使う場合はコメントアウト外す\n",
    "                    # feval = lgb_metric,\n",
    "                )\n",
    "        # 予測\n",
    "        preds = model.predict(x_valid)\n",
    "        # 予測値をラベルに変換\n",
    "        # pred_labels = np.rint(preds)\n",
    "        # 評価\n",
    "        # val_score = balanced_log_loss(y_valid, pred_labels)\n",
    "        val_score = balanced_log_loss(y_valid, preds)\n",
    "        \n",
    "        scores.append(val_score)\n",
    "    # クロスバリデーションの平均値を計算\n",
    "    mean_score = np.mean(scores)\n",
    "    \n",
    "    return mean_score"
   ]
  },
  {
   "cell_type": "code",
   "execution_count": 18,
   "id": "bfc7ad2a",
   "metadata": {
    "scrolled": false
   },
   "outputs": [
    {
     "name": "stderr",
     "output_type": "stream",
     "text": [
      "\u001b[32m[I 2023-05-27 16:01:58,052]\u001b[0m A new study created in memory with name: no-name-3e58ba28-ba89-45fd-be68-8696f92526c2\u001b[0m\n"
     ]
    },
    {
     "data": {
      "application/vnd.jupyter.widget-view+json": {
       "model_id": "e20b6f5f15a74a869b2bbce5e8573f63",
       "version_major": 2,
       "version_minor": 0
      },
      "text/plain": [
       "0it [00:00, ?it/s]"
      ]
     },
     "metadata": {},
     "output_type": "display_data"
    },
    {
     "name": "stderr",
     "output_type": "stream",
     "text": [
      "\u001b[32m[I 2023-05-27 16:02:03,435]\u001b[0m Trial 0 finished with value: 0.29290165828829473 and parameters: {'lambda_l1': 0.000372703234329152, 'lambda_l2': 2.1822312843412873e-08, 'num_leaves': 112, 'feature_fraction': 0.28702606645245266, 'bagging_fraction': 0.9648588149307604, 'min_child_samples': 86}. Best is trial 0 with value: 0.29290165828829473.\u001b[0m\n"
     ]
    },
    {
     "data": {
      "application/vnd.jupyter.widget-view+json": {
       "model_id": "d338efd7808b489ba7abdbc911e7fea5",
       "version_major": 2,
       "version_minor": 0
      },
      "text/plain": [
       "0it [00:00, ?it/s]"
      ]
     },
     "metadata": {},
     "output_type": "display_data"
    },
    {
     "name": "stderr",
     "output_type": "stream",
     "text": [
      "\u001b[32m[I 2023-05-27 16:02:09,985]\u001b[0m Trial 1 finished with value: 0.2843394327753753 and parameters: {'lambda_l1': 1.1443975964581281e-06, 'lambda_l2': 0.8863748768257927, 'num_leaves': 45, 'feature_fraction': 0.7140779339192966, 'bagging_fraction': 0.9239846456268686, 'min_child_samples': 26}. Best is trial 1 with value: 0.2843394327753753.\u001b[0m\n"
     ]
    },
    {
     "data": {
      "application/vnd.jupyter.widget-view+json": {
       "model_id": "c3b5c112232d43bbaab7afce25a3db48",
       "version_major": 2,
       "version_minor": 0
      },
      "text/plain": [
       "0it [00:00, ?it/s]"
      ]
     },
     "metadata": {},
     "output_type": "display_data"
    },
    {
     "name": "stderr",
     "output_type": "stream",
     "text": [
      "\u001b[32m[I 2023-05-27 16:02:13,242]\u001b[0m Trial 2 finished with value: 0.29368730102566437 and parameters: {'lambda_l1': 4.16659979545921e-05, 'lambda_l2': 4.322224889113739e-06, 'num_leaves': 145, 'feature_fraction': 0.5667953162263044, 'bagging_fraction': 0.2891835421077626, 'min_child_samples': 55}. Best is trial 1 with value: 0.2843394327753753.\u001b[0m\n"
     ]
    },
    {
     "data": {
      "application/vnd.jupyter.widget-view+json": {
       "model_id": "4281ae55145f4ba7a45a8286474d09cd",
       "version_major": 2,
       "version_minor": 0
      },
      "text/plain": [
       "0it [00:00, ?it/s]"
      ]
     },
     "metadata": {},
     "output_type": "display_data"
    },
    {
     "name": "stderr",
     "output_type": "stream",
     "text": [
      "\u001b[32m[I 2023-05-27 16:02:17,387]\u001b[0m Trial 3 finished with value: 0.29198482430990685 and parameters: {'lambda_l1': 2.022422844031056, 'lambda_l2': 0.21173268730411626, 'num_leaves': 141, 'feature_fraction': 0.7210277110943939, 'bagging_fraction': 0.43958747814461074, 'min_child_samples': 13}. Best is trial 1 with value: 0.2843394327753753.\u001b[0m\n"
     ]
    },
    {
     "data": {
      "application/vnd.jupyter.widget-view+json": {
       "model_id": "5027ec13cd644747a440addb71efd74c",
       "version_major": 2,
       "version_minor": 0
      },
      "text/plain": [
       "0it [00:00, ?it/s]"
      ]
     },
     "metadata": {},
     "output_type": "display_data"
    },
    {
     "name": "stderr",
     "output_type": "stream",
     "text": [
      "\u001b[32m[I 2023-05-27 16:02:21,568]\u001b[0m Trial 4 finished with value: 0.28451494803231886 and parameters: {'lambda_l1': 2.650280652948881, 'lambda_l2': 3.104631206139215, 'num_leaves': 230, 'feature_fraction': 0.4798902544638362, 'bagging_fraction': 0.49431761387752726, 'min_child_samples': 48}. Best is trial 1 with value: 0.2843394327753753.\u001b[0m\n"
     ]
    },
    {
     "data": {
      "application/vnd.jupyter.widget-view+json": {
       "model_id": "54cc205cf2db4627bea9df281457101f",
       "version_major": 2,
       "version_minor": 0
      },
      "text/plain": [
       "0it [00:00, ?it/s]"
      ]
     },
     "metadata": {},
     "output_type": "display_data"
    },
    {
     "name": "stderr",
     "output_type": "stream",
     "text": [
      "\u001b[32m[I 2023-05-27 16:02:25,212]\u001b[0m Trial 5 finished with value: 0.2869062161643786 and parameters: {'lambda_l1': 3.424624511646802e-06, 'lambda_l2': 8.481672481407634e-07, 'num_leaves': 87, 'feature_fraction': 0.671352279310308, 'bagging_fraction': 0.8502972013789423, 'min_child_samples': 83}. Best is trial 1 with value: 0.2843394327753753.\u001b[0m\n"
     ]
    },
    {
     "data": {
      "application/vnd.jupyter.widget-view+json": {
       "model_id": "fcba33677c6f451999c12071dfbca2bd",
       "version_major": 2,
       "version_minor": 0
      },
      "text/plain": [
       "0it [00:00, ?it/s]"
      ]
     },
     "metadata": {},
     "output_type": "display_data"
    },
    {
     "name": "stderr",
     "output_type": "stream",
     "text": [
      "\u001b[32m[I 2023-05-27 16:02:33,832]\u001b[0m Trial 6 finished with value: 0.28446040641581927 and parameters: {'lambda_l1': 8.697129805230756e-05, 'lambda_l2': 5.060364353922726, 'num_leaves': 43, 'feature_fraction': 0.3988383196446328, 'bagging_fraction': 0.24059025848893373, 'min_child_samples': 60}. Best is trial 1 with value: 0.2843394327753753.\u001b[0m\n"
     ]
    },
    {
     "data": {
      "application/vnd.jupyter.widget-view+json": {
       "model_id": "f086c5d2bb5446bcabd4501e9d0faeda",
       "version_major": 2,
       "version_minor": 0
      },
      "text/plain": [
       "0it [00:00, ?it/s]"
      ]
     },
     "metadata": {},
     "output_type": "display_data"
    },
    {
     "name": "stderr",
     "output_type": "stream",
     "text": [
      "\u001b[32m[I 2023-05-27 16:02:37,566]\u001b[0m Trial 7 finished with value: 0.28883592647399003 and parameters: {'lambda_l1': 0.09443285299031148, 'lambda_l2': 2.445745505897436e-06, 'num_leaves': 186, 'feature_fraction': 0.25011480143823595, 'bagging_fraction': 0.5300555858137639, 'min_child_samples': 57}. Best is trial 1 with value: 0.2843394327753753.\u001b[0m\n"
     ]
    },
    {
     "data": {
      "application/vnd.jupyter.widget-view+json": {
       "model_id": "917448fdc069436199b89998dece5cb7",
       "version_major": 2,
       "version_minor": 0
      },
      "text/plain": [
       "0it [00:00, ?it/s]"
      ]
     },
     "metadata": {},
     "output_type": "display_data"
    },
    {
     "name": "stderr",
     "output_type": "stream",
     "text": [
      "\u001b[32m[I 2023-05-27 16:02:40,934]\u001b[0m Trial 8 finished with value: 0.42860257010152303 and parameters: {'lambda_l1': 0.013617127866837676, 'lambda_l2': 0.0006936696197731677, 'num_leaves': 34, 'feature_fraction': 0.24494322873350802, 'bagging_fraction': 0.5606333026937805, 'min_child_samples': 14}. Best is trial 1 with value: 0.2843394327753753.\u001b[0m\n"
     ]
    },
    {
     "data": {
      "application/vnd.jupyter.widget-view+json": {
       "model_id": "6ba096acaf3749a3bdc0d98a00716b6d",
       "version_major": 2,
       "version_minor": 0
      },
      "text/plain": [
       "0it [00:00, ?it/s]"
      ]
     },
     "metadata": {},
     "output_type": "display_data"
    },
    {
     "name": "stderr",
     "output_type": "stream",
     "text": [
      "\u001b[32m[I 2023-05-27 16:02:43,991]\u001b[0m Trial 9 finished with value: 0.2846888597162505 and parameters: {'lambda_l1': 1.6762824749264735e-07, 'lambda_l2': 5.3850291108527945e-06, 'num_leaves': 80, 'feature_fraction': 0.7496997058249917, 'bagging_fraction': 0.41365485147555114, 'min_child_samples': 67}. Best is trial 1 with value: 0.2843394327753753.\u001b[0m\n"
     ]
    },
    {
     "data": {
      "application/vnd.jupyter.widget-view+json": {
       "model_id": "6f7de3a74e714f5390033de7d2bd006a",
       "version_major": 2,
       "version_minor": 0
      },
      "text/plain": [
       "0it [00:00, ?it/s]"
      ]
     },
     "metadata": {},
     "output_type": "display_data"
    },
    {
     "name": "stderr",
     "output_type": "stream",
     "text": [
      "\u001b[32m[I 2023-05-27 16:02:49,135]\u001b[0m Trial 10 finished with value: 0.28830267336919385 and parameters: {'lambda_l1': 2.244749805397705e-08, 'lambda_l2': 0.05852243897637206, 'num_leaves': 15, 'feature_fraction': 0.9454981857316376, 'bagging_fraction': 0.751813385963885, 'min_child_samples': 32}. Best is trial 1 with value: 0.2843394327753753.\u001b[0m\n"
     ]
    },
    {
     "data": {
      "application/vnd.jupyter.widget-view+json": {
       "model_id": "f5bc3366a5a74d759be6e1332488bd31",
       "version_major": 2,
       "version_minor": 0
      },
      "text/plain": [
       "0it [00:00, ?it/s]"
      ]
     },
     "metadata": {},
     "output_type": "display_data"
    },
    {
     "name": "stderr",
     "output_type": "stream",
     "text": [
      "\u001b[32m[I 2023-05-27 16:02:59,945]\u001b[0m Trial 11 finished with value: 0.28413675987046405 and parameters: {'lambda_l1': 3.9934767562612766e-06, 'lambda_l2': 9.987860799477788, 'num_leaves': 51, 'feature_fraction': 0.4331545478737735, 'bagging_fraction': 0.7031145671668497, 'min_child_samples': 32}. Best is trial 11 with value: 0.28413675987046405.\u001b[0m\n"
     ]
    },
    {
     "data": {
      "application/vnd.jupyter.widget-view+json": {
       "model_id": "d202b9d8bcb942ad8cae355b380774fb",
       "version_major": 2,
       "version_minor": 0
      },
      "text/plain": [
       "0it [00:00, ?it/s]"
      ]
     },
     "metadata": {},
     "output_type": "display_data"
    },
    {
     "name": "stderr",
     "output_type": "stream",
     "text": [
      "\u001b[32m[I 2023-05-27 16:03:03,600]\u001b[0m Trial 12 finished with value: 0.29049164400193545 and parameters: {'lambda_l1': 8.862772485604057e-07, 'lambda_l2': 0.042311030190225016, 'num_leaves': 57, 'feature_fraction': 0.535901279134162, 'bagging_fraction': 0.7005435517112131, 'min_child_samples': 32}. Best is trial 11 with value: 0.28413675987046405.\u001b[0m\n"
     ]
    },
    {
     "data": {
      "application/vnd.jupyter.widget-view+json": {
       "model_id": "ed83e633036f456189da3d2264c243c9",
       "version_major": 2,
       "version_minor": 0
      },
      "text/plain": [
       "0it [00:00, ?it/s]"
      ]
     },
     "metadata": {},
     "output_type": "display_data"
    },
    {
     "name": "stderr",
     "output_type": "stream",
     "text": [
      "\u001b[32m[I 2023-05-27 16:03:14,740]\u001b[0m Trial 13 finished with value: 0.2836099591110607 and parameters: {'lambda_l1': 1.477027203108106e-08, 'lambda_l2': 8.235082641629747, 'num_leaves': 20, 'feature_fraction': 0.4205511988676821, 'bagging_fraction': 0.9753292634384617, 'min_child_samples': 31}. Best is trial 13 with value: 0.2836099591110607.\u001b[0m\n"
     ]
    },
    {
     "data": {
      "application/vnd.jupyter.widget-view+json": {
       "model_id": "df337c9620874878a00f430c38607b12",
       "version_major": 2,
       "version_minor": 0
      },
      "text/plain": [
       "0it [00:00, ?it/s]"
      ]
     },
     "metadata": {},
     "output_type": "display_data"
    },
    {
     "name": "stderr",
     "output_type": "stream",
     "text": [
      "\u001b[32m[I 2023-05-27 16:03:21,766]\u001b[0m Trial 14 finished with value: 0.3897418834286434 and parameters: {'lambda_l1': 1.7587232285684382e-08, 'lambda_l2': 7.1552099379881575, 'num_leaves': 2, 'feature_fraction': 0.39736541292878996, 'bagging_fraction': 0.9876432295767531, 'min_child_samples': 41}. Best is trial 13 with value: 0.2836099591110607.\u001b[0m\n"
     ]
    },
    {
     "data": {
      "application/vnd.jupyter.widget-view+json": {
       "model_id": "6ae66341309c47bcb073584ec264c458",
       "version_major": 2,
       "version_minor": 0
      },
      "text/plain": [
       "0it [00:00, ?it/s]"
      ]
     },
     "metadata": {},
     "output_type": "display_data"
    },
    {
     "name": "stderr",
     "output_type": "stream",
     "text": [
      "\u001b[32m[I 2023-05-27 16:03:25,414]\u001b[0m Trial 15 finished with value: 0.31767289006605504 and parameters: {'lambda_l1': 1.1023220239037546e-08, 'lambda_l2': 0.00482507291794402, 'num_leaves': 82, 'feature_fraction': 0.3948162816410289, 'bagging_fraction': 0.6642548621892002, 'min_child_samples': 23}. Best is trial 13 with value: 0.2836099591110607.\u001b[0m\n"
     ]
    },
    {
     "data": {
      "application/vnd.jupyter.widget-view+json": {
       "model_id": "abd284a5c5fa4b7eb860c1563cdbd335",
       "version_major": 2,
       "version_minor": 0
      },
      "text/plain": [
       "0it [00:00, ?it/s]"
      ]
     },
     "metadata": {},
     "output_type": "display_data"
    },
    {
     "name": "stderr",
     "output_type": "stream",
     "text": [
      "\u001b[32m[I 2023-05-27 16:03:30,658]\u001b[0m Trial 16 finished with value: 0.28887938145105535 and parameters: {'lambda_l1': 1.8190022074463324e-07, 'lambda_l2': 0.38942278847803746, 'num_leaves': 3, 'feature_fraction': 0.474521768684922, 'bagging_fraction': 0.878243454885192, 'min_child_samples': 5}. Best is trial 13 with value: 0.2836099591110607.\u001b[0m\n"
     ]
    },
    {
     "data": {
      "application/vnd.jupyter.widget-view+json": {
       "model_id": "4c612fae631440b59d1262103df1ed81",
       "version_major": 2,
       "version_minor": 0
      },
      "text/plain": [
       "0it [00:00, ?it/s]"
      ]
     },
     "metadata": {},
     "output_type": "display_data"
    },
    {
     "name": "stderr",
     "output_type": "stream",
     "text": [
      "\u001b[32m[I 2023-05-27 16:03:37,564]\u001b[0m Trial 17 finished with value: 0.2968690869463586 and parameters: {'lambda_l1': 8.627645505497526e-06, 'lambda_l2': 8.74508927086069, 'num_leaves': 115, 'feature_fraction': 0.32697861148566093, 'bagging_fraction': 0.8121878441660212, 'min_child_samples': 40}. Best is trial 13 with value: 0.2836099591110607.\u001b[0m\n"
     ]
    },
    {
     "data": {
      "application/vnd.jupyter.widget-view+json": {
       "model_id": "192c509fbf0c4e7cb39c459461a3adc8",
       "version_major": 2,
       "version_minor": 0
      },
      "text/plain": [
       "0it [00:00, ?it/s]"
      ]
     },
     "metadata": {},
     "output_type": "display_data"
    },
    {
     "name": "stderr",
     "output_type": "stream",
     "text": [
      "\u001b[32m[I 2023-05-27 16:03:43,864]\u001b[0m Trial 18 finished with value: 0.29848787852640135 and parameters: {'lambda_l1': 1.7470309516308746e-07, 'lambda_l2': 0.015825713110714804, 'num_leaves': 178, 'feature_fraction': 0.20885989199022764, 'bagging_fraction': 0.7804120009260685, 'min_child_samples': 98}. Best is trial 13 with value: 0.2836099591110607.\u001b[0m\n"
     ]
    },
    {
     "data": {
      "application/vnd.jupyter.widget-view+json": {
       "model_id": "3fa8439c3db7432eb279ff1532f3b57d",
       "version_major": 2,
       "version_minor": 0
      },
      "text/plain": [
       "0it [00:00, ?it/s]"
      ]
     },
     "metadata": {},
     "output_type": "display_data"
    },
    {
     "name": "stderr",
     "output_type": "stream",
     "text": [
      "\u001b[32m[I 2023-05-27 16:03:48,339]\u001b[0m Trial 19 finished with value: 0.2968203969226896 and parameters: {'lambda_l1': 0.0009239122737725872, 'lambda_l2': 0.5428707367596065, 'num_leaves': 69, 'feature_fraction': 0.3426008679130671, 'bagging_fraction': 0.627039737454987, 'min_child_samples': 43}. Best is trial 13 with value: 0.2836099591110607.\u001b[0m\n"
     ]
    }
   ],
   "source": [
    "study = optuna.create_study(direction=\"minimize\")\n",
    "study.optimize(objective, n_trials=CFG.n_trials)"
   ]
  },
  {
   "cell_type": "code",
   "execution_count": null,
   "id": "9ab0d689",
   "metadata": {
    "scrolled": true
   },
   "outputs": [],
   "source": [
    "best_params = study.best_trial.params\n",
    "best_value = study.best_value\n",
    "print(\"best_param: {}\\n\\nbest_value: {}\".format(best_params, best_value))"
   ]
  },
  {
   "cell_type": "code",
   "execution_count": null,
   "id": "cb0b9528",
   "metadata": {},
   "outputs": [],
   "source": [
    "\"\"\"\n",
    "# best_paramsには固定値が保存されないので改めて設定\n",
    "best_params[\"boosting_type\"] = CFG.boosting_type\n",
    "best_params[\"device_type\"] = CFG.device_type\n",
    "best_params[\"seed\"] = CFG.seed\n",
    "best_params[\"n_jobs\"] = -1\n",
    "best_params[\"is_unbalance\"] = True\n",
    "best_params[\"objective\"] = \"binary\"\n",
    "best_params[\"learning_rate\"] = 0.005\n",
    "best_params[\"metric\"] = \"binary_logloss\"\n",
    "best_params[\"verbosity\"] = -1\n",
    "\n",
    "# 設定したハイパーパラメータを基にモデルを作成\n",
    "model = lgb.LGBMClassifier(**best_params)\n",
    "# 学習\n",
    "model.fit(train_df[features], train_df[CFG.target_col])\n",
    "\"\"\""
   ]
  },
  {
   "cell_type": "code",
   "execution_count": null,
   "id": "97e2a0c0",
   "metadata": {},
   "outputs": [],
   "source": [
    "\"\"\"\n",
    "# 予測\n",
    "prediction = model.predict_proba(test_df.drop([\"Id\", \"Class\"], axis=1))\n",
    "# 提出用に値を変換\n",
    "prediction = max(min(prediction, 1-10**(-15)), 10**(-15))\n",
    "submission = pd.DataFrame(columns = submission_df.columns)\n",
    "submission['Id'] = test_df['Id']\n",
    "submission[['class_0','class_1']] = prediction\n",
    "submission.to_csv('submission.csv',index=False)\n",
    "submission\n",
    "\"\"\""
   ]
  }
 ],
 "metadata": {
  "kernelspec": {
   "display_name": "Python 3 (ipykernel)",
   "language": "python",
   "name": "python3"
  },
  "language_info": {
   "codemirror_mode": {
    "name": "ipython",
    "version": 3
   },
   "file_extension": ".py",
   "mimetype": "text/x-python",
   "name": "python",
   "nbconvert_exporter": "python",
   "pygments_lexer": "ipython3",
   "version": "3.10.6"
  }
 },
 "nbformat": 4,
 "nbformat_minor": 5
}
