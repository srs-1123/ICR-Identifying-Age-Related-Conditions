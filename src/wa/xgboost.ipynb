{
 "cells": [
  {
   "cell_type": "code",
   "execution_count": 1,
   "metadata": {},
   "outputs": [
    {
     "name": "stderr",
     "output_type": "stream",
     "text": [
      "/home/eringi/kaggle/.venv/lib/python3.10/site-packages/tqdm/auto.py:21: TqdmWarning: IProgress not found. Please update jupyter and ipywidgets. See https://ipywidgets.readthedocs.io/en/stable/user_install.html\n",
      "  from .autonotebook import tqdm as notebook_tqdm\n"
     ]
    },
    {
     "name": "stdout",
     "output_type": "stream",
     "text": [
      "python: 3.10.11 (main, May  7 2023, 19:24:25) [Clang 16.0.3 ]\n",
      "torch: 1.13.1+cu117\n"
     ]
    }
   ],
   "source": [
    "import sys\n",
    "import pandas as pd\n",
    "import numpy as np\n",
    "import xgboost as xgb\n",
    "from xgboost import XGBClassifier\n",
    "import torch\n",
    "import torch\n",
    "from torch import nn\n",
    "from sklearn.model_selection import train_test_split\n",
    "import random\n",
    "\n",
    "print('python:', sys.version)\n",
    "print('torch:', torch.__version__)\n",
    "# print(torch.cuda.get_device_name(),'is available? ->', torch.cuda.is_available())\n",
    "# device = 'cuda' if torch.cuda.is_available() else 'cpu'\n",
    "device = 'cpu'\n",
    "BATCHSIZE = 8\n",
    "EPOCHS = 5\n",
    "random.seed(10)"
   ]
  },
  {
   "cell_type": "code",
   "execution_count": 2,
   "metadata": {},
   "outputs": [],
   "source": [
    "train = pd.read_csv('../data/train.csv')\n",
    "test = pd.read_csv('../data/test.csv')"
   ]
  },
  {
   "cell_type": "code",
   "execution_count": 3,
   "metadata": {},
   "outputs": [],
   "source": [
    "cols = train.columns\n",
    "cols = cols.drop(['Id', 'EJ', 'Class'])\n",
    "\n",
    "train_quantitative = train[cols]\n",
    "test_x = test[cols]\n",
    "\n",
    "first_quartiles = train_quantitative.quantile(0.25)\n",
    "third_quartiles = train_quantitative.quantile(0.75)\n",
    "\n",
    "iqr = third_quartiles - first_quartiles\n",
    "\n",
    "lower_bound = first_quartiles - (iqr * 1.5) #外れ値の下限\n",
    "upper_bound = third_quartiles + (iqr * 1.5) #外れ値の上限\n",
    "\n",
    "# train[cols] = train[(train[cols] > lower_bound) | (train[cols] < upper_bound)]\n",
    "train_quantitative = train_quantitative.clip(lower_bound, upper_bound, axis=1)"
   ]
  },
  {
   "cell_type": "code",
   "execution_count": 4,
   "metadata": {},
   "outputs": [],
   "source": [
    "x = train_quantitative\n",
    "y = train['Class']\n",
    "train_val_x, test_x, train_val_y, test_y = train_test_split(train_quantitative, y, train_size=0.8, shuffle=True, random_state=20)\n",
    "train_x, val_x, train_y, val_y = train_test_split(train_val_x, train_val_y, train_size=0.8, shuffle=True, random_state=20)"
   ]
  },
  {
   "cell_type": "code",
   "execution_count": 5,
   "metadata": {},
   "outputs": [],
   "source": [
    "dtrain = xgb.DMatrix(train_x, label=train_y)\n",
    "dval = xgb.DMatrix(val_x, label=val_y)\n",
    "dtest = xgb.DMatrix(test_x)\n",
    "\n",
    "params = {\n",
    "  'objective': 'binary:logistic',\n",
    "  'silent':1, \n",
    "  'random_state':1234, \n",
    "  'eval_metric': 'rmse',\n",
    "}\n",
    "num_round = 100\n",
    "watch_list = [(dtrain, 'train'), (dval, 'eval')]"
   ]
  },
  {
   "cell_type": "code",
   "execution_count": 6,
   "metadata": {},
   "outputs": [
    {
     "name": "stdout",
     "output_type": "stream",
     "text": [
      "[0]\tvalidation_0-logloss:0.68557\n",
      "[1]\tvalidation_0-logloss:0.67810\n",
      "[2]\tvalidation_0-logloss:0.67077\n",
      "[3]\tvalidation_0-logloss:0.66359\n",
      "[4]\tvalidation_0-logloss:0.65655\n",
      "[5]\tvalidation_0-logloss:0.64965\n",
      "[6]\tvalidation_0-logloss:0.64288\n",
      "[7]\tvalidation_0-logloss:0.63619\n",
      "[8]\tvalidation_0-logloss:0.62972\n",
      "[9]\tvalidation_0-logloss:0.62332\n",
      "[10]\tvalidation_0-logloss:0.61709\n",
      "[11]\tvalidation_0-logloss:0.61089\n",
      "[12]\tvalidation_0-logloss:0.60485\n",
      "[13]\tvalidation_0-logloss:0.59887\n",
      "[14]\tvalidation_0-logloss:0.59307\n",
      "[15]\tvalidation_0-logloss:0.58745\n",
      "[16]\tvalidation_0-logloss:0.58193\n",
      "[17]\tvalidation_0-logloss:0.57648\n",
      "[18]\tvalidation_0-logloss:0.57110\n",
      "[19]\tvalidation_0-logloss:0.56580\n",
      "[20]\tvalidation_0-logloss:0.56055\n",
      "[21]\tvalidation_0-logloss:0.55551\n",
      "[22]\tvalidation_0-logloss:0.55069\n",
      "[23]\tvalidation_0-logloss:0.54575\n",
      "[24]\tvalidation_0-logloss:0.54097\n",
      "[25]\tvalidation_0-logloss:0.53628\n",
      "[26]\tvalidation_0-logloss:0.53156\n",
      "[27]\tvalidation_0-logloss:0.52707\n",
      "[28]\tvalidation_0-logloss:0.52266\n",
      "[29]\tvalidation_0-logloss:0.51839\n",
      "[30]\tvalidation_0-logloss:0.51388\n",
      "[31]\tvalidation_0-logloss:0.50960\n",
      "[32]\tvalidation_0-logloss:0.50529\n",
      "[33]\tvalidation_0-logloss:0.50123\n",
      "[34]\tvalidation_0-logloss:0.49717\n",
      "[35]\tvalidation_0-logloss:0.49310\n",
      "[36]\tvalidation_0-logloss:0.48912\n",
      "[37]\tvalidation_0-logloss:0.48527\n",
      "[38]\tvalidation_0-logloss:0.48145\n",
      "[39]\tvalidation_0-logloss:0.47758\n",
      "[40]\tvalidation_0-logloss:0.47382\n",
      "[41]\tvalidation_0-logloss:0.47008\n",
      "[42]\tvalidation_0-logloss:0.46667\n",
      "[43]\tvalidation_0-logloss:0.46300\n",
      "[44]\tvalidation_0-logloss:0.45957\n",
      "[45]\tvalidation_0-logloss:0.45614\n",
      "[46]\tvalidation_0-logloss:0.45284\n",
      "[47]\tvalidation_0-logloss:0.44947\n",
      "[48]\tvalidation_0-logloss:0.44614\n",
      "[49]\tvalidation_0-logloss:0.44282\n",
      "[50]\tvalidation_0-logloss:0.43971\n",
      "[51]\tvalidation_0-logloss:0.43661\n",
      "[52]\tvalidation_0-logloss:0.43354\n",
      "[53]\tvalidation_0-logloss:0.43039\n",
      "[54]\tvalidation_0-logloss:0.42730\n",
      "[55]\tvalidation_0-logloss:0.42434\n",
      "[56]\tvalidation_0-logloss:0.42124\n",
      "[57]\tvalidation_0-logloss:0.41837\n",
      "[58]\tvalidation_0-logloss:0.41554\n",
      "[59]\tvalidation_0-logloss:0.41267\n",
      "[60]\tvalidation_0-logloss:0.40994\n",
      "[61]\tvalidation_0-logloss:0.40732\n",
      "[62]\tvalidation_0-logloss:0.40475\n",
      "[63]\tvalidation_0-logloss:0.40214\n",
      "[64]\tvalidation_0-logloss:0.39931\n",
      "[65]\tvalidation_0-logloss:0.39686\n",
      "[66]\tvalidation_0-logloss:0.39428\n",
      "[67]\tvalidation_0-logloss:0.39181\n",
      "[68]\tvalidation_0-logloss:0.38938\n",
      "[69]\tvalidation_0-logloss:0.38723\n",
      "[70]\tvalidation_0-logloss:0.38504\n",
      "[71]\tvalidation_0-logloss:0.38270\n",
      "[72]\tvalidation_0-logloss:0.38058\n",
      "[73]\tvalidation_0-logloss:0.37843\n",
      "[74]\tvalidation_0-logloss:0.37637\n",
      "[75]\tvalidation_0-logloss:0.37433\n",
      "[76]\tvalidation_0-logloss:0.37214\n",
      "[77]\tvalidation_0-logloss:0.37030\n",
      "[78]\tvalidation_0-logloss:0.36808\n",
      "[79]\tvalidation_0-logloss:0.36610\n",
      "[80]\tvalidation_0-logloss:0.36400\n",
      "[81]\tvalidation_0-logloss:0.36184\n",
      "[82]\tvalidation_0-logloss:0.35991\n",
      "[83]\tvalidation_0-logloss:0.35779\n",
      "[84]\tvalidation_0-logloss:0.35578\n",
      "[85]\tvalidation_0-logloss:0.35399\n",
      "[86]\tvalidation_0-logloss:0.35200\n",
      "[87]\tvalidation_0-logloss:0.35008\n",
      "[88]\tvalidation_0-logloss:0.34834\n",
      "[89]\tvalidation_0-logloss:0.34641\n",
      "[90]\tvalidation_0-logloss:0.34450\n",
      "[91]\tvalidation_0-logloss:0.34293\n",
      "[92]\tvalidation_0-logloss:0.34114\n",
      "[93]\tvalidation_0-logloss:0.33953\n",
      "[94]\tvalidation_0-logloss:0.33783\n",
      "[95]\tvalidation_0-logloss:0.33620\n",
      "[96]\tvalidation_0-logloss:0.33469\n",
      "[97]\tvalidation_0-logloss:0.33312\n",
      "[98]\tvalidation_0-logloss:0.33145\n",
      "[99]\tvalidation_0-logloss:0.33000\n"
     ]
    },
    {
     "data": {
      "text/html": [
       "<style>#sk-container-id-1 {color: black;background-color: white;}#sk-container-id-1 pre{padding: 0;}#sk-container-id-1 div.sk-toggleable {background-color: white;}#sk-container-id-1 label.sk-toggleable__label {cursor: pointer;display: block;width: 100%;margin-bottom: 0;padding: 0.3em;box-sizing: border-box;text-align: center;}#sk-container-id-1 label.sk-toggleable__label-arrow:before {content: \"▸\";float: left;margin-right: 0.25em;color: #696969;}#sk-container-id-1 label.sk-toggleable__label-arrow:hover:before {color: black;}#sk-container-id-1 div.sk-estimator:hover label.sk-toggleable__label-arrow:before {color: black;}#sk-container-id-1 div.sk-toggleable__content {max-height: 0;max-width: 0;overflow: hidden;text-align: left;background-color: #f0f8ff;}#sk-container-id-1 div.sk-toggleable__content pre {margin: 0.2em;color: black;border-radius: 0.25em;background-color: #f0f8ff;}#sk-container-id-1 input.sk-toggleable__control:checked~div.sk-toggleable__content {max-height: 200px;max-width: 100%;overflow: auto;}#sk-container-id-1 input.sk-toggleable__control:checked~label.sk-toggleable__label-arrow:before {content: \"▾\";}#sk-container-id-1 div.sk-estimator input.sk-toggleable__control:checked~label.sk-toggleable__label {background-color: #d4ebff;}#sk-container-id-1 div.sk-label input.sk-toggleable__control:checked~label.sk-toggleable__label {background-color: #d4ebff;}#sk-container-id-1 input.sk-hidden--visually {border: 0;clip: rect(1px 1px 1px 1px);clip: rect(1px, 1px, 1px, 1px);height: 1px;margin: -1px;overflow: hidden;padding: 0;position: absolute;width: 1px;}#sk-container-id-1 div.sk-estimator {font-family: monospace;background-color: #f0f8ff;border: 1px dotted black;border-radius: 0.25em;box-sizing: border-box;margin-bottom: 0.5em;}#sk-container-id-1 div.sk-estimator:hover {background-color: #d4ebff;}#sk-container-id-1 div.sk-parallel-item::after {content: \"\";width: 100%;border-bottom: 1px solid gray;flex-grow: 1;}#sk-container-id-1 div.sk-label:hover label.sk-toggleable__label {background-color: #d4ebff;}#sk-container-id-1 div.sk-serial::before {content: \"\";position: absolute;border-left: 1px solid gray;box-sizing: border-box;top: 0;bottom: 0;left: 50%;z-index: 0;}#sk-container-id-1 div.sk-serial {display: flex;flex-direction: column;align-items: center;background-color: white;padding-right: 0.2em;padding-left: 0.2em;position: relative;}#sk-container-id-1 div.sk-item {position: relative;z-index: 1;}#sk-container-id-1 div.sk-parallel {display: flex;align-items: stretch;justify-content: center;background-color: white;position: relative;}#sk-container-id-1 div.sk-item::before, #sk-container-id-1 div.sk-parallel-item::before {content: \"\";position: absolute;border-left: 1px solid gray;box-sizing: border-box;top: 0;bottom: 0;left: 50%;z-index: -1;}#sk-container-id-1 div.sk-parallel-item {display: flex;flex-direction: column;z-index: 1;position: relative;background-color: white;}#sk-container-id-1 div.sk-parallel-item:first-child::after {align-self: flex-end;width: 50%;}#sk-container-id-1 div.sk-parallel-item:last-child::after {align-self: flex-start;width: 50%;}#sk-container-id-1 div.sk-parallel-item:only-child::after {width: 0;}#sk-container-id-1 div.sk-dashed-wrapped {border: 1px dashed gray;margin: 0 0.4em 0.5em 0.4em;box-sizing: border-box;padding-bottom: 0.4em;background-color: white;}#sk-container-id-1 div.sk-label label {font-family: monospace;font-weight: bold;display: inline-block;line-height: 1.2em;}#sk-container-id-1 div.sk-label-container {text-align: center;}#sk-container-id-1 div.sk-container {/* jupyter's `normalize.less` sets `[hidden] { display: none; }` but bootstrap.min.css set `[hidden] { display: none !important; }` so we also need the `!important` here to be able to override the default hidden behavior on the sphinx rendered scikit-learn.org. See: https://github.com/scikit-learn/scikit-learn/issues/21755 */display: inline-block !important;position: relative;}#sk-container-id-1 div.sk-text-repr-fallback {display: none;}</style><div id=\"sk-container-id-1\" class=\"sk-top-container\"><div class=\"sk-text-repr-fallback\"><pre>XGBClassifier(base_score=None, booster=None, callbacks=None,\n",
       "              colsample_bylevel=None, colsample_bynode=None,\n",
       "              colsample_bytree=None, early_stopping_rounds=10,\n",
       "              enable_categorical=False, eval_metric=None, feature_types=None,\n",
       "              gamma=None, gpu_id=None, grow_policy=None, importance_type=None,\n",
       "              interaction_constraints=None, learning_rate=0.01, max_bin=None,\n",
       "              max_cat_threshold=None, max_cat_to_onehot=None,\n",
       "              max_delta_step=None, max_depth=None, max_leaves=None,\n",
       "              min_child_weight=None, missing=nan, monotone_constraints=None,\n",
       "              n_estimators=100, n_jobs=None, num_parallel_tree=None,\n",
       "              predictor=None, random_state=None, ...)</pre><b>In a Jupyter environment, please rerun this cell to show the HTML representation or trust the notebook. <br />On GitHub, the HTML representation is unable to render, please try loading this page with nbviewer.org.</b></div><div class=\"sk-container\" hidden><div class=\"sk-item\"><div class=\"sk-estimator sk-toggleable\"><input class=\"sk-toggleable__control sk-hidden--visually\" id=\"sk-estimator-id-1\" type=\"checkbox\" checked><label for=\"sk-estimator-id-1\" class=\"sk-toggleable__label sk-toggleable__label-arrow\">XGBClassifier</label><div class=\"sk-toggleable__content\"><pre>XGBClassifier(base_score=None, booster=None, callbacks=None,\n",
       "              colsample_bylevel=None, colsample_bynode=None,\n",
       "              colsample_bytree=None, early_stopping_rounds=10,\n",
       "              enable_categorical=False, eval_metric=None, feature_types=None,\n",
       "              gamma=None, gpu_id=None, grow_policy=None, importance_type=None,\n",
       "              interaction_constraints=None, learning_rate=0.01, max_bin=None,\n",
       "              max_cat_threshold=None, max_cat_to_onehot=None,\n",
       "              max_delta_step=None, max_depth=None, max_leaves=None,\n",
       "              min_child_weight=None, missing=nan, monotone_constraints=None,\n",
       "              n_estimators=100, n_jobs=None, num_parallel_tree=None,\n",
       "              predictor=None, random_state=None, ...)</pre></div></div></div></div></div>"
      ],
      "text/plain": [
       "XGBClassifier(base_score=None, booster=None, callbacks=None,\n",
       "              colsample_bylevel=None, colsample_bynode=None,\n",
       "              colsample_bytree=None, early_stopping_rounds=10,\n",
       "              enable_categorical=False, eval_metric=None, feature_types=None,\n",
       "              gamma=None, gpu_id=None, grow_policy=None, importance_type=None,\n",
       "              interaction_constraints=None, learning_rate=0.01, max_bin=None,\n",
       "              max_cat_threshold=None, max_cat_to_onehot=None,\n",
       "              max_delta_step=None, max_depth=None, max_leaves=None,\n",
       "              min_child_weight=None, missing=nan, monotone_constraints=None,\n",
       "              n_estimators=100, n_jobs=None, num_parallel_tree=None,\n",
       "              predictor=None, random_state=None, ...)"
      ]
     },
     "execution_count": 6,
     "metadata": {},
     "output_type": "execute_result"
    }
   ],
   "source": [
    "# train\n",
    "# xgb_model = xgb.train(\n",
    "#     params,\n",
    "#     dtrain,\n",
    "#     num_round,\n",
    "#     evals=watch_list,\n",
    "#     early_stopping_rounds=10\n",
    "# )\n",
    "\n",
    "xgb_clf = XGBClassifier(\n",
    "    learning_rate = 0.01,\n",
    "    early_stopping_rounds = 10,\n",
    "    tree_method = 'gpu_hist'\n",
    ")\n",
    "evals = [(val_x, val_y)]\n",
    "xgb_clf.fit(train_x, train_y, eval_set=evals, verbose=True)"
   ]
  },
  {
   "cell_type": "code",
   "execution_count": 7,
   "metadata": {},
   "outputs": [
    {
     "name": "stdout",
     "output_type": "stream",
     "text": [
      "acc: 0.8951612903225806\n"
     ]
    }
   ],
   "source": [
    "prob = xgb_clf.predict_proba(test_x)\n",
    "preds = xgb_clf.predict(test_x)\n",
    "\n",
    "num = len(preds)\n",
    "acc_cnt = 0\n",
    "for y, cls in zip(test_y, preds):\n",
    "    if y == cls:\n",
    "        acc_cnt += 1\n",
    "  \n",
    "print('acc:', acc_cnt / num)\n",
    "    "
   ]
  },
  {
   "cell_type": "code",
   "execution_count": 8,
   "metadata": {},
   "outputs": [],
   "source": [
    "\n",
    "test_quantitative = test[cols]\n",
    "\n",
    "first_quartiles = test_quantitative.quantile(0.25)\n",
    "third_quartiles = test_quantitative.quantile(0.75)\n",
    "\n",
    "iqr = third_quartiles - first_quartiles\n",
    "\n",
    "lower_bound = first_quartiles - (iqr * 1.5) #外れ値の下限\n",
    "upper_bound = third_quartiles + (iqr * 1.5) #外れ値の上限\n",
    "\n",
    "# train[cols] = train[(train[cols] > lower_bound) | (train[cols] < upper_bound)]\n",
    "test_quantitative = test_quantitative.clip(lower_bound, upper_bound, axis=1)\n",
    "\n",
    "test_prob = xgb_clf.predict_proba(test_quantitative.to_numpy())"
   ]
  },
  {
   "cell_type": "code",
   "execution_count": 9,
   "metadata": {},
   "outputs": [],
   "source": [
    "submit_df = pd.DataFrame(columns=['Id', 'class_0', 'class_1'])\n",
    "submit_df['Id'] = test['Id']\n",
    "submit_df['class_0'] = test_prob[:, 0]\n",
    "submit_df['class_1'] = test_prob[:, 1]\n",
    "submit_df.to_csv('submission.csv', index=False)"
   ]
  }
 ],
 "metadata": {
  "kernelspec": {
   "display_name": ".venv",
   "language": "python",
   "name": "python3"
  },
  "language_info": {
   "codemirror_mode": {
    "name": "ipython",
    "version": 3
   },
   "file_extension": ".py",
   "mimetype": "text/x-python",
   "name": "python",
   "nbconvert_exporter": "python",
   "pygments_lexer": "ipython3",
   "version": "3.10.11"
  },
  "orig_nbformat": 4
 },
 "nbformat": 4,
 "nbformat_minor": 2
}
