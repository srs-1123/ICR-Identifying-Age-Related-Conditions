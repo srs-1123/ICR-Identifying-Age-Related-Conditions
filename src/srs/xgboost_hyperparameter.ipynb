{
 "cells": [
  {
   "cell_type": "markdown",
   "id": "2e2ebfbb",
   "metadata": {},
   "source": [
    "# xgboost_hyperparameter\n",
    "## 結果\n",
    "* 'max_depth': 20, \n",
    "* 'colsample_bytree': 0.6597946356014663, \n",
    "* 'subsample': 0.7, \n",
    "* 'gamma': 1.884172979513442, \n",
    "* 'lambda': 0.006050024963423825, \n",
    "* 'min_child_weight': 9, \n",
    "* 'num_boost_round': 926, \n",
    "* 'early_stopping_rounds': 98\n",
    "\n",
    "best_value: 0.28495961062567476"
   ]
  },
  {
   "cell_type": "code",
   "execution_count": 7,
   "id": "c565dfec",
   "metadata": {},
   "outputs": [],
   "source": [
    "import numpy as np\n",
    "import pandas as pd\n",
    "from sklearn.metrics import log_loss\n",
    "import xgboost as xgb\n",
    "from xgboost import XGBClassifier\n",
    "from sklearn.model_selection import StratifiedKFold\n",
    "import optuna\n",
    "import warnings\n",
    "from tqdm import tqdm\n",
    "warnings.simplefilter('ignore')"
   ]
  },
  {
   "cell_type": "code",
   "execution_count": 9,
   "id": "effab245",
   "metadata": {},
   "outputs": [],
   "source": [
    "# 設定値\n",
    "class CFG:\n",
    "    # 変更するパラメータ\n",
    "    n_folds = 5 # 公差検証の分割数\n",
    "    n_trials = 100 # ハイパーパラメータチューニングの試行回数\n",
    "    # その他設定値\n",
    "    learning_rate = 0.01\n",
    "    seed = 1234 "
   ]
  },
  {
   "cell_type": "code",
   "execution_count": 10,
   "id": "5341650c",
   "metadata": {},
   "outputs": [],
   "source": [
    "# BASE_DIR = '/kaggle/input/icr-identify-age-related-conditions/'\n",
    "BASE_DIR = '../../data'\n",
    "train_df = pd.read_csv(f'{BASE_DIR}/train.csv')\n",
    "greeks_df = pd.read_csv(f'{BASE_DIR}/greeks.csv')\n",
    "test_df = pd.read_csv(f'{BASE_DIR}/test.csv')\n",
    "submission_df = pd.read_csv(f'{BASE_DIR}/sample_submission.csv')"
   ]
  },
  {
   "cell_type": "code",
   "execution_count": 11,
   "id": "a3ef47eb",
   "metadata": {},
   "outputs": [],
   "source": [
    "train_df = train_df.drop('EJ', axis=1)\n",
    "X_train = train_df.drop(['Id', 'Class'], axis=1)\n",
    "y_train = train_df['Class']"
   ]
  },
  {
   "cell_type": "markdown",
   "id": "8910afd9",
   "metadata": {},
   "source": [
    "### balanced loglossの計算（学習で使う？）"
   ]
  },
  {
   "cell_type": "code",
   "execution_count": 12,
   "id": "8a5b023e",
   "metadata": {},
   "outputs": [],
   "source": [
    "# 評価基準\n",
    "def balanced_log_loss(y_true, y_pred):\n",
    "    N = len(y_true)\n",
    "\n",
    "    # Nc is the number of observations\n",
    "    N_1 = np.sum(y_true == 1, axis=0)\n",
    "    N_0 = np.sum(y_true == 0, axis=0)\n",
    "\n",
    "    # In order to avoid the extremes of the log function, each predicted probability 𝑝 is replaced with max(min(𝑝,1−10−15),10−15)\n",
    "    y_pred = np.maximum(np.minimum(y_pred, 1 - 1e-15), 1e-15)\n",
    "\n",
    "    # balanced logarithmic loss\n",
    "    loss_numerator = - (1/N_0) * np.sum((1 - y_true) * np.log(1-y_pred)) - (1/N_1) * np.sum(y_true * np.log(y_pred))\n",
    "\n",
    "    return loss_numerator / 2\n",
    "\n",
    "# Classの０，１の割合をそれぞれ計算\n",
    "def calc_log_loss_weight(y_true):\n",
    "    nc = np.bincount(y_true)\n",
    "    w0, w1 = 1/(nc[0]/y_true.shape[0]), 1/(nc[1]/y_true.shape[0])\n",
    "    return w0, w1"
   ]
  },
  {
   "cell_type": "code",
   "execution_count": 23,
   "id": "47f5345e",
   "metadata": {},
   "outputs": [],
   "source": [
    "def objective(trial):\n",
    "    # xgboost設定値\n",
    "    xgb_params = {\n",
    "        'objective': 'binary:logistic',# 学習タスク\n",
    "        'tree_method': 'gpu_hist',\n",
    "        'eval_metric': 'rmse',\n",
    "        'random_state': CFG.seed,\n",
    "        'learning_rate': CFG.learning_rate,\n",
    "        # 探索するパラメータ\n",
    "        'max_depth': trial.suggest_int('max_depth', 1, 20),\n",
    "        'colsample_bytree': trial.suggest_uniform('colsample_bytree', 0.5, 1.0),\n",
    "        'subsample': trial.suggest_categorical('subsample', [0.4, 0.5, 0.6, 0.7, 0.8, 1.0]),\n",
    "        'gamma': trial.suggest_uniform('gamma', 0, 2),\n",
    "        'lambda': trial.suggest_loguniform('lambda', 1e-3, 10.0),\n",
    "        'min_child_weight': trial.suggest_int('min_child_weight', 1, 50),\n",
    "    }\n",
    "    \n",
    "    num_boost_round = trial.suggest_int('num_boost_round', 100, 1000)\n",
    "    early_stopping_rounds = trial.suggest_int('early_stopping_rounds', 10, 100)\n",
    "    \n",
    "    scores = []\n",
    "    # K-分割交差検証(層化抽出法)\n",
    "    kfold = StratifiedKFold(n_splits = CFG.n_folds, shuffle = True, random_state = CFG.seed)\n",
    "    \n",
    "    for fold, (train_index, valid_index) in enumerate(kfold.split(X_train, y_train)):\n",
    "        # 訓練データを分割\n",
    "        X_train_fold = X_train.iloc[train_index]\n",
    "        y_train_fold = y_train.iloc[train_index]\n",
    "        X_valid_fold = X_train.iloc[valid_index]\n",
    "        y_valid_fold = y_train.iloc[valid_index]\n",
    "    \n",
    "        # 訓練データの重みを計算\n",
    "        train_w0, train_w1 = calc_log_loss_weight(y_train_fold)\n",
    "        # 検証データの重みを計算\n",
    "        valid_w0, valid_w1 = calc_log_loss_weight(y_valid_fold)\n",
    "        # 訓練データをxgb用に変換\n",
    "        xgb_train = xgb.DMatrix(data=X_train_fold, label=y_train_fold, weight=y_train_fold.map({0: train_w0, 1: train_w1}))\n",
    "        # 検証データをxgb用に変換\n",
    "        xgb_valid = xgb.DMatrix(data=X_valid_fold, label=y_valid_fold, weight=y_valid_fold.map({0: valid_w0, 1: valid_w1}))\n",
    "        \n",
    "        # モデルのインスタンス生成\n",
    "        model = xgb.train(\n",
    "            xgb_params, \n",
    "            dtrain = xgb_train, \n",
    "            num_boost_round = num_boost_round,\n",
    "            evals = [(xgb_train, 'train'), (xgb_valid, 'eval')], \n",
    "            early_stopping_rounds = early_stopping_rounds,\n",
    "            verbose_eval = False, # 整数に設定すると、n回ごとのブースティングステージで評価メトリクスを表示\n",
    "        )\n",
    "        # 予測\n",
    "        preds = model.predict(xgb.DMatrix(X_valid_fold), iteration_range=(0, model.best_ntree_limit))\n",
    "        # 予測値をラベルに変換\n",
    "        # pred_labels = np.rint(preds)\n",
    "        # 評価\n",
    "        # val_score = balanced_log_loss(y_valid, pred_labels)\n",
    "        val_score = balanced_log_loss(y_valid_fold, preds)\n",
    "        \n",
    "        scores.append(val_score)\n",
    "    # クロスバリデーションの平均値を計算\n",
    "    mean_score = np.mean(scores)\n",
    "    \n",
    "    return mean_score"
   ]
  },
  {
   "cell_type": "code",
   "execution_count": 24,
   "id": "bfc7ad2a",
   "metadata": {
    "scrolled": false
   },
   "outputs": [
    {
     "name": "stderr",
     "output_type": "stream",
     "text": [
      "[I 2023-07-24 17:55:19,509] A new study created in memory with name: no-name-8cb8a83a-1238-4d87-9349-aac3bb8ed438\n",
      "[I 2023-07-24 17:55:25,108] Trial 0 finished with value: 0.4355671562350758 and parameters: {'max_depth': 1, 'colsample_bytree': 0.6423258532698192, 'subsample': 1.0, 'gamma': 0.9526436858780756, 'lambda': 0.2093470722704977, 'min_child_weight': 44, 'num_boost_round': 440, 'early_stopping_rounds': 69}. Best is trial 0 with value: 0.4355671562350758.\n"
     ]
    },
    {
     "name": "stdout",
     "output_type": "stream",
     "text": [
      "balanced_log_loss: 0.4355671562350758\n"
     ]
    },
    {
     "name": "stderr",
     "output_type": "stream",
     "text": [
      "[I 2023-07-24 17:55:35,542] Trial 1 finished with value: 0.30102973198448557 and parameters: {'max_depth': 7, 'colsample_bytree': 0.8117916986316722, 'subsample': 0.8, 'gamma': 0.25729557628452304, 'lambda': 0.0018937083495176763, 'min_child_weight': 19, 'num_boost_round': 773, 'early_stopping_rounds': 35}. Best is trial 1 with value: 0.30102973198448557.\n"
     ]
    },
    {
     "name": "stdout",
     "output_type": "stream",
     "text": [
      "balanced_log_loss: 0.30102973198448557\n"
     ]
    },
    {
     "name": "stderr",
     "output_type": "stream",
     "text": [
      "[I 2023-07-24 17:55:38,042] Trial 2 finished with value: 0.47588149270351254 and parameters: {'max_depth': 9, 'colsample_bytree': 0.8617425308624076, 'subsample': 0.6, 'gamma': 0.34976878977615034, 'lambda': 0.002233138842354782, 'min_child_weight': 42, 'num_boost_round': 164, 'early_stopping_rounds': 28}. Best is trial 1 with value: 0.30102973198448557.\n"
     ]
    },
    {
     "name": "stdout",
     "output_type": "stream",
     "text": [
      "balanced_log_loss: 0.47588149270351254\n"
     ]
    },
    {
     "name": "stderr",
     "output_type": "stream",
     "text": [
      "[I 2023-07-24 17:55:49,347] Trial 3 finished with value: 0.3685851194377577 and parameters: {'max_depth': 1, 'colsample_bytree': 0.6189967886736101, 'subsample': 0.6, 'gamma': 1.8803242722535745, 'lambda': 1.9859305139898114, 'min_child_weight': 36, 'num_boost_round': 911, 'early_stopping_rounds': 93}. Best is trial 1 with value: 0.30102973198448557.\n"
     ]
    },
    {
     "name": "stdout",
     "output_type": "stream",
     "text": [
      "balanced_log_loss: 0.3685851194377577\n"
     ]
    },
    {
     "name": "stderr",
     "output_type": "stream",
     "text": [
      "[I 2023-07-24 17:55:52,288] Trial 4 finished with value: 0.4443038794239505 and parameters: {'max_depth': 20, 'colsample_bytree': 0.7790836545008473, 'subsample': 0.8, 'gamma': 0.6818931053959187, 'lambda': 0.28104843205541147, 'min_child_weight': 45, 'num_boost_round': 155, 'early_stopping_rounds': 14}. Best is trial 1 with value: 0.30102973198448557.\n"
     ]
    },
    {
     "name": "stdout",
     "output_type": "stream",
     "text": [
      "balanced_log_loss: 0.4443038794239505\n"
     ]
    },
    {
     "name": "stderr",
     "output_type": "stream",
     "text": [
      "[I 2023-07-24 17:55:56,558] Trial 5 finished with value: 0.3642303366695352 and parameters: {'max_depth': 17, 'colsample_bytree': 0.9254711221089695, 'subsample': 1.0, 'gamma': 1.3173344962575546, 'lambda': 0.00579935407234788, 'min_child_weight': 25, 'num_boost_round': 198, 'early_stopping_rounds': 20}. Best is trial 1 with value: 0.30102973198448557.\n"
     ]
    },
    {
     "name": "stdout",
     "output_type": "stream",
     "text": [
      "balanced_log_loss: 0.3642303366695352\n"
     ]
    },
    {
     "name": "stderr",
     "output_type": "stream",
     "text": [
      "[I 2023-07-24 17:56:07,154] Trial 6 finished with value: 0.30558355381093805 and parameters: {'max_depth': 9, 'colsample_bytree': 0.9733046790850932, 'subsample': 1.0, 'gamma': 1.1204268664425283, 'lambda': 0.001034427822623973, 'min_child_weight': 17, 'num_boost_round': 993, 'early_stopping_rounds': 25}. Best is trial 1 with value: 0.30102973198448557.\n"
     ]
    },
    {
     "name": "stdout",
     "output_type": "stream",
     "text": [
      "balanced_log_loss: 0.30558355381093805\n"
     ]
    },
    {
     "name": "stderr",
     "output_type": "stream",
     "text": [
      "[I 2023-07-24 17:56:15,185] Trial 7 finished with value: 0.31598604695815363 and parameters: {'max_depth': 5, 'colsample_bytree': 0.9895056267636173, 'subsample': 0.7, 'gamma': 1.5716756406205759, 'lambda': 0.019217795606767007, 'min_child_weight': 16, 'num_boost_round': 413, 'early_stopping_rounds': 82}. Best is trial 1 with value: 0.30102973198448557.\n"
     ]
    },
    {
     "name": "stdout",
     "output_type": "stream",
     "text": [
      "balanced_log_loss: 0.31598604695815363\n"
     ]
    },
    {
     "name": "stderr",
     "output_type": "stream",
     "text": [
      "[I 2023-07-24 17:56:24,063] Trial 8 finished with value: 0.36175410139411374 and parameters: {'max_depth': 2, 'colsample_bytree': 0.5054708538815829, 'subsample': 0.8, 'gamma': 0.6514017450566543, 'lambda': 4.911303099575388, 'min_child_weight': 43, 'num_boost_round': 663, 'early_stopping_rounds': 16}. Best is trial 1 with value: 0.30102973198448557.\n"
     ]
    },
    {
     "name": "stdout",
     "output_type": "stream",
     "text": [
      "balanced_log_loss: 0.36175410139411374\n"
     ]
    },
    {
     "name": "stderr",
     "output_type": "stream",
     "text": [
      "[I 2023-07-24 17:56:30,720] Trial 9 finished with value: 0.34317965001693257 and parameters: {'max_depth': 13, 'colsample_bytree': 0.6148284838125018, 'subsample': 0.7, 'gamma': 0.06609875093810791, 'lambda': 0.01703065993704305, 'min_child_weight': 2, 'num_boost_round': 987, 'early_stopping_rounds': 11}. Best is trial 1 with value: 0.30102973198448557.\n"
     ]
    },
    {
     "name": "stdout",
     "output_type": "stream",
     "text": [
      "balanced_log_loss: 0.34317965001693257\n"
     ]
    },
    {
     "name": "stderr",
     "output_type": "stream",
     "text": [
      "[I 2023-07-24 17:56:37,631] Trial 10 finished with value: 0.38812803361367676 and parameters: {'max_depth': 6, 'colsample_bytree': 0.8164921029022771, 'subsample': 0.4, 'gamma': 0.018591236807048495, 'lambda': 0.029955796303783627, 'min_child_weight': 1, 'num_boost_round': 737, 'early_stopping_rounds': 46}. Best is trial 1 with value: 0.30102973198448557.\n"
     ]
    },
    {
     "name": "stdout",
     "output_type": "stream",
     "text": [
      "balanced_log_loss: 0.38812803361367676\n"
     ]
    },
    {
     "name": "stderr",
     "output_type": "stream",
     "text": [
      "[I 2023-07-24 17:56:46,741] Trial 11 finished with value: 0.3035192527559691 and parameters: {'max_depth': 11, 'colsample_bytree': 0.9938528003639349, 'subsample': 0.5, 'gamma': 1.149351889242482, 'lambda': 0.0017222417655867034, 'min_child_weight': 15, 'num_boost_round': 827, 'early_stopping_rounds': 42}. Best is trial 1 with value: 0.30102973198448557.\n"
     ]
    },
    {
     "name": "stdout",
     "output_type": "stream",
     "text": [
      "balanced_log_loss: 0.3035192527559691\n"
     ]
    },
    {
     "name": "stderr",
     "output_type": "stream",
     "text": [
      "[I 2023-07-24 17:56:57,473] Trial 12 finished with value: 0.3045320947976503 and parameters: {'max_depth': 13, 'colsample_bytree': 0.901421633432436, 'subsample': 0.5, 'gamma': 0.8051021554395875, 'lambda': 0.0010790351411082138, 'min_child_weight': 14, 'num_boost_round': 764, 'early_stopping_rounds': 45}. Best is trial 1 with value: 0.30102973198448557.\n"
     ]
    },
    {
     "name": "stdout",
     "output_type": "stream",
     "text": [
      "balanced_log_loss: 0.3045320947976503\n"
     ]
    },
    {
     "name": "stderr",
     "output_type": "stream",
     "text": [
      "[I 2023-07-24 17:57:07,451] Trial 13 finished with value: 0.3274930351310751 and parameters: {'max_depth': 12, 'colsample_bytree': 0.852893977632242, 'subsample': 0.5, 'gamma': 0.3898928554479461, 'lambda': 0.005195932499339648, 'min_child_weight': 26, 'num_boost_round': 841, 'early_stopping_rounds': 39}. Best is trial 1 with value: 0.30102973198448557.\n"
     ]
    },
    {
     "name": "stdout",
     "output_type": "stream",
     "text": [
      "balanced_log_loss: 0.3274930351310751\n"
     ]
    },
    {
     "name": "stderr",
     "output_type": "stream",
     "text": [
      "[I 2023-07-24 17:57:16,597] Trial 14 finished with value: 0.2999427623877763 and parameters: {'max_depth': 6, 'colsample_bytree': 0.7384907958350727, 'subsample': 0.8, 'gamma': 1.17707934488684, 'lambda': 0.004399877687132624, 'min_child_weight': 9, 'num_boost_round': 593, 'early_stopping_rounds': 60}. Best is trial 14 with value: 0.2999427623877763.\n"
     ]
    },
    {
     "name": "stdout",
     "output_type": "stream",
     "text": [
      "balanced_log_loss: 0.2999427623877763\n"
     ]
    },
    {
     "name": "stderr",
     "output_type": "stream",
     "text": [
      "[I 2023-07-24 17:57:26,208] Trial 15 finished with value: 0.29524903464516344 and parameters: {'max_depth': 6, 'colsample_bytree': 0.7362382144470919, 'subsample': 0.8, 'gamma': 1.3850904845588445, 'lambda': 0.005519228389658534, 'min_child_weight': 9, 'num_boost_round': 584, 'early_stopping_rounds': 64}. Best is trial 15 with value: 0.29524903464516344.\n"
     ]
    },
    {
     "name": "stdout",
     "output_type": "stream",
     "text": [
      "balanced_log_loss: 0.29524903464516344\n"
     ]
    },
    {
     "name": "stderr",
     "output_type": "stream",
     "text": [
      "[I 2023-07-24 17:57:35,585] Trial 16 finished with value: 0.29857997687149557 and parameters: {'max_depth': 4, 'colsample_bytree': 0.7118195019579564, 'subsample': 0.8, 'gamma': 1.3004336463639234, 'lambda': 0.06100317577043327, 'min_child_weight': 8, 'num_boost_round': 579, 'early_stopping_rounds': 62}. Best is trial 15 with value: 0.29524903464516344.\n"
     ]
    },
    {
     "name": "stdout",
     "output_type": "stream",
     "text": [
      "balanced_log_loss: 0.29857997687149557\n"
     ]
    },
    {
     "name": "stderr",
     "output_type": "stream",
     "text": [
      "[I 2023-07-24 17:57:42,850] Trial 17 finished with value: 0.3052362388029781 and parameters: {'max_depth': 3, 'colsample_bytree': 0.7055112843897525, 'subsample': 0.8, 'gamma': 1.4564422746348913, 'lambda': 0.06251930222024504, 'min_child_weight': 9, 'num_boost_round': 464, 'early_stopping_rounds': 71}. Best is trial 15 with value: 0.29524903464516344.\n"
     ]
    },
    {
     "name": "stdout",
     "output_type": "stream",
     "text": [
      "balanced_log_loss: 0.3052362388029781\n"
     ]
    },
    {
     "name": "stderr",
     "output_type": "stream",
     "text": [
      "[I 2023-07-24 17:57:48,109] Trial 18 finished with value: 0.3411546011375378 and parameters: {'max_depth': 4, 'colsample_bytree': 0.7064493910950117, 'subsample': 0.4, 'gamma': 1.6775796949579354, 'lambda': 0.11890345619343741, 'min_child_weight': 7, 'num_boost_round': 315, 'early_stopping_rounds': 55}. Best is trial 15 with value: 0.29524903464516344.\n"
     ]
    },
    {
     "name": "stdout",
     "output_type": "stream",
     "text": [
      "balanced_log_loss: 0.3411546011375378\n"
     ]
    },
    {
     "name": "stderr",
     "output_type": "stream",
     "text": [
      "[I 2023-07-24 17:57:56,626] Trial 19 finished with value: 0.3082371449902858 and parameters: {'max_depth': 8, 'colsample_bytree': 0.7592104299021151, 'subsample': 0.8, 'gamma': 1.3497373478686272, 'lambda': 0.5481321935228192, 'min_child_weight': 24, 'num_boost_round': 572, 'early_stopping_rounds': 67}. Best is trial 15 with value: 0.29524903464516344.\n"
     ]
    },
    {
     "name": "stdout",
     "output_type": "stream",
     "text": [
      "balanced_log_loss: 0.3082371449902858\n"
     ]
    },
    {
     "name": "stderr",
     "output_type": "stream",
     "text": [
      "[I 2023-07-24 17:58:01,769] Trial 20 finished with value: 0.35706155162434666 and parameters: {'max_depth': 15, 'colsample_bytree': 0.6822796549516309, 'subsample': 0.8, 'gamma': 1.760034864162817, 'lambda': 0.05155977010029322, 'min_child_weight': 34, 'num_boost_round': 332, 'early_stopping_rounds': 83}. Best is trial 15 with value: 0.29524903464516344.\n"
     ]
    },
    {
     "name": "stdout",
     "output_type": "stream",
     "text": [
      "balanced_log_loss: 0.35706155162434666\n"
     ]
    },
    {
     "name": "stderr",
     "output_type": "stream",
     "text": [
      "[I 2023-07-24 17:58:10,073] Trial 21 finished with value: 0.29992041349171905 and parameters: {'max_depth': 5, 'colsample_bytree': 0.7446799881543786, 'subsample': 0.8, 'gamma': 1.2655228457674803, 'lambda': 0.006735188094369026, 'min_child_weight': 9, 'num_boost_round': 587, 'early_stopping_rounds': 60}. Best is trial 15 with value: 0.29524903464516344.\n"
     ]
    },
    {
     "name": "stdout",
     "output_type": "stream",
     "text": [
      "balanced_log_loss: 0.29992041349171905\n"
     ]
    },
    {
     "name": "stderr",
     "output_type": "stream",
     "text": [
      "[I 2023-07-24 17:58:19,352] Trial 22 finished with value: 0.292165942225756 and parameters: {'max_depth': 4, 'colsample_bytree': 0.7421532231689988, 'subsample': 0.8, 'gamma': 1.5028646591283368, 'lambda': 0.011078838015252853, 'min_child_weight': 6, 'num_boost_round': 647, 'early_stopping_rounds': 55}. Best is trial 22 with value: 0.292165942225756.\n"
     ]
    },
    {
     "name": "stdout",
     "output_type": "stream",
     "text": [
      "balanced_log_loss: 0.292165942225756\n"
     ]
    },
    {
     "name": "stderr",
     "output_type": "stream",
     "text": [
      "[I 2023-07-24 17:58:30,608] Trial 23 finished with value: 0.29738201405190745 and parameters: {'max_depth': 4, 'colsample_bytree': 0.7793708681870914, 'subsample': 0.8, 'gamma': 1.5041835588934538, 'lambda': 0.014011486657481578, 'min_child_weight': 5, 'num_boost_round': 665, 'early_stopping_rounds': 53}. Best is trial 22 with value: 0.292165942225756.\n"
     ]
    },
    {
     "name": "stdout",
     "output_type": "stream",
     "text": [
      "balanced_log_loss: 0.29738201405190745\n"
     ]
    },
    {
     "name": "stderr",
     "output_type": "stream",
     "text": [
      "[I 2023-07-24 17:58:41,931] Trial 24 finished with value: 0.2964757157136117 and parameters: {'max_depth': 3, 'colsample_bytree': 0.7898533823051835, 'subsample': 0.8, 'gamma': 1.5229305042053844, 'lambda': 0.01527091689263405, 'min_child_weight': 4, 'num_boost_round': 677, 'early_stopping_rounds': 52}. Best is trial 22 with value: 0.292165942225756.\n"
     ]
    },
    {
     "name": "stdout",
     "output_type": "stream",
     "text": [
      "balanced_log_loss: 0.2964757157136117\n"
     ]
    },
    {
     "name": "stderr",
     "output_type": "stream",
     "text": [
      "[I 2023-07-24 17:58:51,822] Trial 25 finished with value: 0.3005580893746832 and parameters: {'max_depth': 2, 'colsample_bytree': 0.7907324298867356, 'subsample': 0.8, 'gamma': 1.9617789676373294, 'lambda': 0.0108406777426405, 'min_child_weight': 4, 'num_boost_round': 670, 'early_stopping_rounds': 78}. Best is trial 22 with value: 0.292165942225756.\n"
     ]
    },
    {
     "name": "stdout",
     "output_type": "stream",
     "text": [
      "balanced_log_loss: 0.3005580893746832\n"
     ]
    },
    {
     "name": "stderr",
     "output_type": "stream",
     "text": [
      "[I 2023-07-24 17:59:00,778] Trial 26 finished with value: 0.3051633318232132 and parameters: {'max_depth': 8, 'colsample_bytree': 0.8382757503271028, 'subsample': 0.6, 'gamma': 1.6539726978591331, 'lambda': 0.03247306704613304, 'min_child_weight': 12, 'num_boost_round': 499, 'early_stopping_rounds': 51}. Best is trial 22 with value: 0.292165942225756.\n"
     ]
    },
    {
     "name": "stdout",
     "output_type": "stream",
     "text": [
      "balanced_log_loss: 0.3051633318232132\n"
     ]
    },
    {
     "name": "stderr",
     "output_type": "stream",
     "text": [
      "[I 2023-07-24 17:59:08,388] Trial 27 finished with value: 0.34533286348104897 and parameters: {'max_depth': 3, 'colsample_bytree': 0.7502576242536727, 'subsample': 0.4, 'gamma': 1.4777594207701075, 'lambda': 0.009299720005798283, 'min_child_weight': 20, 'num_boost_round': 519, 'early_stopping_rounds': 75}. Best is trial 22 with value: 0.292165942225756.\n"
     ]
    },
    {
     "name": "stdout",
     "output_type": "stream",
     "text": [
      "balanced_log_loss: 0.34533286348104897\n"
     ]
    },
    {
     "name": "stderr",
     "output_type": "stream",
     "text": [
      "[I 2023-07-24 17:59:20,960] Trial 28 finished with value: 0.2926343424891449 and parameters: {'max_depth': 6, 'colsample_bytree': 0.8073524858133518, 'subsample': 0.7, 'gamma': 1.8017275278421703, 'lambda': 0.003251153203013868, 'min_child_weight': 12, 'num_boost_round': 705, 'early_stopping_rounds': 92}. Best is trial 22 with value: 0.292165942225756.\n"
     ]
    },
    {
     "name": "stdout",
     "output_type": "stream",
     "text": [
      "balanced_log_loss: 0.2926343424891449\n"
     ]
    },
    {
     "name": "stderr",
     "output_type": "stream",
     "text": [
      "[I 2023-07-24 17:59:33,617] Trial 29 finished with value: 0.28921466405037866 and parameters: {'max_depth': 10, 'colsample_bytree': 0.6590251885568277, 'subsample': 0.7, 'gamma': 1.8179819685183793, 'lambda': 0.0032855373977521397, 'min_child_weight': 13, 'num_boost_round': 725, 'early_stopping_rounds': 98}. Best is trial 29 with value: 0.28921466405037866.\n"
     ]
    },
    {
     "name": "stdout",
     "output_type": "stream",
     "text": [
      "balanced_log_loss: 0.28921466405037866\n"
     ]
    },
    {
     "name": "stderr",
     "output_type": "stream",
     "text": [
      "[I 2023-07-24 17:59:47,199] Trial 30 finished with value: 0.3161262428904632 and parameters: {'max_depth': 10, 'colsample_bytree': 0.6675451940287265, 'subsample': 0.7, 'gamma': 1.80624673811533, 'lambda': 0.0027691404274690326, 'min_child_weight': 30, 'num_boost_round': 877, 'early_stopping_rounds': 100}. Best is trial 29 with value: 0.28921466405037866.\n"
     ]
    },
    {
     "name": "stdout",
     "output_type": "stream",
     "text": [
      "balanced_log_loss: 0.3161262428904632\n"
     ]
    },
    {
     "name": "stderr",
     "output_type": "stream",
     "text": [
      "[I 2023-07-24 18:00:00,806] Trial 31 finished with value: 0.2886836684905597 and parameters: {'max_depth': 7, 'colsample_bytree': 0.6495051847703103, 'subsample': 0.7, 'gamma': 1.9716624130811335, 'lambda': 0.0034674119556341526, 'min_child_weight': 11, 'num_boost_round': 725, 'early_stopping_rounds': 92}. Best is trial 31 with value: 0.2886836684905597.\n"
     ]
    },
    {
     "name": "stdout",
     "output_type": "stream",
     "text": [
      "balanced_log_loss: 0.2886836684905597\n"
     ]
    },
    {
     "name": "stderr",
     "output_type": "stream",
     "text": [
      "[I 2023-07-24 18:00:14,493] Trial 32 finished with value: 0.2903860565777593 and parameters: {'max_depth': 7, 'colsample_bytree': 0.6531906603464851, 'subsample': 0.7, 'gamma': 1.8737139141915573, 'lambda': 0.002839080518193246, 'min_child_weight': 12, 'num_boost_round': 725, 'early_stopping_rounds': 92}. Best is trial 31 with value: 0.2886836684905597.\n"
     ]
    },
    {
     "name": "stdout",
     "output_type": "stream",
     "text": [
      "balanced_log_loss: 0.2903860565777593\n"
     ]
    },
    {
     "name": "stderr",
     "output_type": "stream",
     "text": [
      "[I 2023-07-24 18:00:27,884] Trial 33 finished with value: 0.29900443289516176 and parameters: {'max_depth': 8, 'colsample_bytree': 0.6340911831473497, 'subsample': 0.7, 'gamma': 1.9738209333234495, 'lambda': 0.0028571026417285603, 'min_child_weight': 21, 'num_boost_round': 797, 'early_stopping_rounds': 90}. Best is trial 31 with value: 0.2886836684905597.\n"
     ]
    },
    {
     "name": "stdout",
     "output_type": "stream",
     "text": [
      "balanced_log_loss: 0.29900443289516176\n"
     ]
    },
    {
     "name": "stderr",
     "output_type": "stream",
     "text": [
      "[I 2023-07-24 18:00:41,554] Trial 34 finished with value: 0.29387484665032215 and parameters: {'max_depth': 10, 'colsample_bytree': 0.5884359196068858, 'subsample': 0.7, 'gamma': 1.8839246991138843, 'lambda': 0.001630322269820084, 'min_child_weight': 12, 'num_boost_round': 727, 'early_stopping_rounds': 97}. Best is trial 31 with value: 0.2886836684905597.\n"
     ]
    },
    {
     "name": "stdout",
     "output_type": "stream",
     "text": [
      "balanced_log_loss: 0.29387484665032215\n"
     ]
    },
    {
     "name": "stderr",
     "output_type": "stream",
     "text": [
      "[I 2023-07-24 18:00:51,103] Trial 35 finished with value: 0.38731828285076436 and parameters: {'max_depth': 8, 'colsample_bytree': 0.6609074288002365, 'subsample': 0.7, 'gamma': 1.6945726187828152, 'lambda': 0.002799245362142066, 'min_child_weight': 49, 'num_boost_round': 636, 'early_stopping_rounds': 86}. Best is trial 31 with value: 0.2886836684905597.\n"
     ]
    },
    {
     "name": "stdout",
     "output_type": "stream",
     "text": [
      "balanced_log_loss: 0.38731828285076436\n"
     ]
    },
    {
     "name": "stderr",
     "output_type": "stream",
     "text": [
      "[I 2023-07-24 18:01:05,370] Trial 36 finished with value: 0.28962004618169834 and parameters: {'max_depth': 7, 'colsample_bytree': 0.6407082551707112, 'subsample': 0.7, 'gamma': 1.9933739416880372, 'lambda': 0.008254584788300767, 'min_child_weight': 18, 'num_boost_round': 901, 'early_stopping_rounds': 88}. Best is trial 31 with value: 0.2886836684905597.\n"
     ]
    },
    {
     "name": "stdout",
     "output_type": "stream",
     "text": [
      "balanced_log_loss: 0.28962004618169834\n"
     ]
    },
    {
     "name": "stderr",
     "output_type": "stream",
     "text": [
      "[I 2023-07-24 18:01:20,496] Trial 37 finished with value: 0.2899916794610271 and parameters: {'max_depth': 9, 'colsample_bytree': 0.5940480217911308, 'subsample': 0.7, 'gamma': 1.9907976251143167, 'lambda': 0.007460841276568737, 'min_child_weight': 18, 'num_boost_round': 900, 'early_stopping_rounds': 96}. Best is trial 31 with value: 0.2886836684905597.\n"
     ]
    },
    {
     "name": "stdout",
     "output_type": "stream",
     "text": [
      "balanced_log_loss: 0.2899916794610271\n"
     ]
    },
    {
     "name": "stderr",
     "output_type": "stream",
     "text": [
      "[I 2023-07-24 18:01:34,848] Trial 38 finished with value: 0.29709381347360014 and parameters: {'max_depth': 9, 'colsample_bytree': 0.5878488628090535, 'subsample': 0.7, 'gamma': 1.9992269305455876, 'lambda': 0.007715059794732615, 'min_child_weight': 22, 'num_boost_round': 924, 'early_stopping_rounds': 100}. Best is trial 31 with value: 0.2886836684905597.\n"
     ]
    },
    {
     "name": "stdout",
     "output_type": "stream",
     "text": [
      "balanced_log_loss: 0.29709381347360014\n"
     ]
    },
    {
     "name": "stderr",
     "output_type": "stream",
     "text": [
      "[I 2023-07-24 18:01:48,238] Trial 39 finished with value: 0.2928738561759382 and parameters: {'max_depth': 12, 'colsample_bytree': 0.584315972351905, 'subsample': 0.7, 'gamma': 1.8444575541636037, 'lambda': 0.004462701613384991, 'min_child_weight': 18, 'num_boost_round': 931, 'early_stopping_rounds': 86}. Best is trial 31 with value: 0.2886836684905597.\n"
     ]
    },
    {
     "name": "stdout",
     "output_type": "stream",
     "text": [
      "balanced_log_loss: 0.2928738561759382\n"
     ]
    },
    {
     "name": "stderr",
     "output_type": "stream",
     "text": [
      "[I 2023-07-24 18:02:00,595] Trial 40 finished with value: 0.2928135829928579 and parameters: {'max_depth': 15, 'colsample_bytree': 0.6250199020369108, 'subsample': 1.0, 'gamma': 1.997383416119039, 'lambda': 0.0017046053223077047, 'min_child_weight': 19, 'num_boost_round': 875, 'early_stopping_rounds': 96}. Best is trial 31 with value: 0.2886836684905597.\n"
     ]
    },
    {
     "name": "stdout",
     "output_type": "stream",
     "text": [
      "balanced_log_loss: 0.2928135829928579\n"
     ]
    },
    {
     "name": "stderr",
     "output_type": "stream",
     "text": [
      "[I 2023-07-24 18:02:13,986] Trial 41 finished with value: 0.28938759866371183 and parameters: {'max_depth': 7, 'colsample_bytree': 0.6597850678714572, 'subsample': 0.7, 'gamma': 1.8882388240087253, 'lambda': 0.003887417549052293, 'min_child_weight': 14, 'num_boost_round': 796, 'early_stopping_rounds': 89}. Best is trial 31 with value: 0.2886836684905597.\n"
     ]
    },
    {
     "name": "stdout",
     "output_type": "stream",
     "text": [
      "balanced_log_loss: 0.28938759866371183\n"
     ]
    },
    {
     "name": "stderr",
     "output_type": "stream",
     "text": [
      "[I 2023-07-24 18:02:27,155] Trial 42 finished with value: 0.2900286529467699 and parameters: {'max_depth': 9, 'colsample_bytree': 0.6396812558312066, 'subsample': 0.7, 'gamma': 1.7409039226597396, 'lambda': 0.007841017561718708, 'min_child_weight': 15, 'num_boost_round': 796, 'early_stopping_rounds': 88}. Best is trial 31 with value: 0.2886836684905597.\n"
     ]
    },
    {
     "name": "stdout",
     "output_type": "stream",
     "text": [
      "balanced_log_loss: 0.2900286529467699\n"
     ]
    },
    {
     "name": "stderr",
     "output_type": "stream",
     "text": [
      "[I 2023-07-24 18:02:39,906] Trial 43 finished with value: 0.31030137571865796 and parameters: {'max_depth': 7, 'colsample_bytree': 0.6786854450348792, 'subsample': 0.7, 'gamma': 1.8927413592249172, 'lambda': 0.004313052033727293, 'min_child_weight': 27, 'num_boost_round': 952, 'early_stopping_rounds': 80}. Best is trial 31 with value: 0.2886836684905597.\n"
     ]
    },
    {
     "name": "stdout",
     "output_type": "stream",
     "text": [
      "balanced_log_loss: 0.31030137571865796\n"
     ]
    },
    {
     "name": "stderr",
     "output_type": "stream",
     "text": [
      "[I 2023-07-24 18:02:53,816] Trial 44 finished with value: 0.287472160030071 and parameters: {'max_depth': 11, 'colsample_bytree': 0.6097843509299335, 'subsample': 0.7, 'gamma': 1.617293902645815, 'lambda': 0.001860738715446688, 'min_child_weight': 17, 'num_boost_round': 873, 'early_stopping_rounds': 96}. Best is trial 44 with value: 0.287472160030071.\n"
     ]
    },
    {
     "name": "stdout",
     "output_type": "stream",
     "text": [
      "balanced_log_loss: 0.287472160030071\n"
     ]
    },
    {
     "name": "stderr",
     "output_type": "stream",
     "text": [
      "[I 2023-07-24 18:03:06,345] Trial 45 finished with value: 0.3106079130196996 and parameters: {'max_depth': 11, 'colsample_bytree': 0.5608355497204455, 'subsample': 0.6, 'gamma': 1.6248246794562142, 'lambda': 0.0010247472227222787, 'min_child_weight': 23, 'num_boost_round': 837, 'early_stopping_rounds': 75}. Best is trial 44 with value: 0.287472160030071.\n"
     ]
    },
    {
     "name": "stdout",
     "output_type": "stream",
     "text": [
      "balanced_log_loss: 0.3106079130196996\n"
     ]
    },
    {
     "name": "stderr",
     "output_type": "stream",
     "text": [
      "[I 2023-07-24 18:03:19,439] Trial 46 finished with value: 0.2902010606365829 and parameters: {'max_depth': 7, 'colsample_bytree': 0.6157665256895308, 'subsample': 0.7, 'gamma': 1.6140005310964076, 'lambda': 0.001882360492765315, 'min_child_weight': 16, 'num_boost_round': 772, 'early_stopping_rounds': 85}. Best is trial 44 with value: 0.287472160030071.\n"
     ]
    },
    {
     "name": "stdout",
     "output_type": "stream",
     "text": [
      "balanced_log_loss: 0.2902010606365829\n"
     ]
    },
    {
     "name": "stderr",
     "output_type": "stream",
     "text": [
      "[I 2023-07-24 18:03:33,263] Trial 47 finished with value: 0.286375735360989 and parameters: {'max_depth': 14, 'colsample_bytree': 0.6502937704331461, 'subsample': 0.7, 'gamma': 1.7840359880861925, 'lambda': 0.0014390251745480197, 'min_child_weight': 14, 'num_boost_round': 995, 'early_stopping_rounds': 94}. Best is trial 47 with value: 0.286375735360989.\n"
     ]
    },
    {
     "name": "stdout",
     "output_type": "stream",
     "text": [
      "balanced_log_loss: 0.286375735360989\n"
     ]
    },
    {
     "name": "stderr",
     "output_type": "stream",
     "text": [
      "[I 2023-07-24 18:03:45,173] Trial 48 finished with value: 0.3005380625046163 and parameters: {'max_depth': 19, 'colsample_bytree': 0.6828141000922306, 'subsample': 1.0, 'gamma': 1.7233883577916456, 'lambda': 0.0015917800252156417, 'min_child_weight': 12, 'num_boost_round': 971, 'early_stopping_rounds': 95}. Best is trial 47 with value: 0.286375735360989.\n"
     ]
    },
    {
     "name": "stdout",
     "output_type": "stream",
     "text": [
      "balanced_log_loss: 0.3005380625046163\n"
     ]
    },
    {
     "name": "stderr",
     "output_type": "stream",
     "text": [
      "[I 2023-07-24 18:03:59,526] Trial 49 finished with value: 0.2879221489457466 and parameters: {'max_depth': 13, 'colsample_bytree': 0.6560062891416094, 'subsample': 0.7, 'gamma': 1.774310059912891, 'lambda': 0.0012684158982959749, 'min_child_weight': 14, 'num_boost_round': 997, 'early_stopping_rounds': 99}. Best is trial 47 with value: 0.286375735360989.\n"
     ]
    },
    {
     "name": "stdout",
     "output_type": "stream",
     "text": [
      "balanced_log_loss: 0.2879221489457466\n"
     ]
    },
    {
     "name": "stderr",
     "output_type": "stream",
     "text": [
      "[I 2023-07-24 18:04:15,422] Trial 50 finished with value: 0.294605031726895 and parameters: {'max_depth': 14, 'colsample_bytree': 0.557328646316415, 'subsample': 0.5, 'gamma': 1.5744396097852915, 'lambda': 0.0010077365946595928, 'min_child_weight': 10, 'num_boost_round': 979, 'early_stopping_rounds': 100}. Best is trial 47 with value: 0.286375735360989.\n"
     ]
    },
    {
     "name": "stdout",
     "output_type": "stream",
     "text": [
      "balanced_log_loss: 0.294605031726895\n"
     ]
    },
    {
     "name": "stderr",
     "output_type": "stream",
     "text": [
      "[I 2023-07-24 18:04:29,433] Trial 51 finished with value: 0.2901952808508512 and parameters: {'max_depth': 16, 'colsample_bytree': 0.643863093238487, 'subsample': 0.7, 'gamma': 1.795419012860986, 'lambda': 0.00212543095647916, 'min_child_weight': 15, 'num_boost_round': 854, 'early_stopping_rounds': 92}. Best is trial 47 with value: 0.286375735360989.\n"
     ]
    },
    {
     "name": "stdout",
     "output_type": "stream",
     "text": [
      "balanced_log_loss: 0.2901952808508512\n"
     ]
    },
    {
     "name": "stderr",
     "output_type": "stream",
     "text": [
      "[I 2023-07-24 18:04:44,722] Trial 52 finished with value: 0.2875613144925482 and parameters: {'max_depth': 13, 'colsample_bytree': 0.6657514461882869, 'subsample': 0.7, 'gamma': 1.7111973947404489, 'lambda': 0.0013838674246542085, 'min_child_weight': 14, 'num_boost_round': 940, 'early_stopping_rounds': 94}. Best is trial 47 with value: 0.286375735360989.\n"
     ]
    },
    {
     "name": "stdout",
     "output_type": "stream",
     "text": [
      "balanced_log_loss: 0.2875613144925482\n"
     ]
    },
    {
     "name": "stderr",
     "output_type": "stream",
     "text": [
      "[I 2023-07-24 18:04:57,676] Trial 53 finished with value: 0.28903705932574775 and parameters: {'max_depth': 13, 'colsample_bytree': 0.6934489108598193, 'subsample': 0.7, 'gamma': 1.7243950709880822, 'lambda': 0.0013064952785293103, 'min_child_weight': 14, 'num_boost_round': 949, 'early_stopping_rounds': 94}. Best is trial 47 with value: 0.286375735360989.\n"
     ]
    },
    {
     "name": "stdout",
     "output_type": "stream",
     "text": [
      "balanced_log_loss: 0.28903705932574775\n"
     ]
    },
    {
     "name": "stderr",
     "output_type": "stream",
     "text": [
      "[I 2023-07-24 18:05:11,002] Trial 54 finished with value: 0.28835187156305425 and parameters: {'max_depth': 13, 'colsample_bytree': 0.6906465675961382, 'subsample': 0.7, 'gamma': 1.7013996845376338, 'lambda': 0.0016720710831765323, 'min_child_weight': 17, 'num_boost_round': 957, 'early_stopping_rounds': 94}. Best is trial 47 with value: 0.286375735360989.\n"
     ]
    },
    {
     "name": "stdout",
     "output_type": "stream",
     "text": [
      "balanced_log_loss: 0.28835187156305425\n"
     ]
    },
    {
     "name": "stderr",
     "output_type": "stream",
     "text": [
      "[I 2023-07-24 18:05:25,155] Trial 55 finished with value: 0.2888441727697287 and parameters: {'max_depth': 12, 'colsample_bytree': 0.6908472546851611, 'subsample': 0.7, 'gamma': 1.6341454257386396, 'lambda': 0.0013375199589065506, 'min_child_weight': 17, 'num_boost_round': 975, 'early_stopping_rounds': 83}. Best is trial 47 with value: 0.286375735360989.\n"
     ]
    },
    {
     "name": "stdout",
     "output_type": "stream",
     "text": [
      "balanced_log_loss: 0.2888441727697287\n"
     ]
    },
    {
     "name": "stderr",
     "output_type": "stream",
     "text": [
      "[I 2023-07-24 18:05:38,281] Trial 56 finished with value: 0.298366133183708 and parameters: {'max_depth': 14, 'colsample_bytree': 0.7101946662507446, 'subsample': 0.4, 'gamma': 1.680260021398124, 'lambda': 0.0021426229654898463, 'min_child_weight': 10, 'num_boost_round': 885, 'early_stopping_rounds': 93}. Best is trial 47 with value: 0.286375735360989.\n"
     ]
    },
    {
     "name": "stdout",
     "output_type": "stream",
     "text": [
      "balanced_log_loss: 0.298366133183708\n"
     ]
    },
    {
     "name": "stderr",
     "output_type": "stream",
     "text": [
      "[I 2023-07-24 18:05:48,531] Trial 57 finished with value: 0.33101981374477185 and parameters: {'max_depth': 17, 'colsample_bytree': 0.7238043816933896, 'subsample': 0.6, 'gamma': 1.7590149519702, 'lambda': 0.0012949667606637655, 'min_child_weight': 28, 'num_boost_round': 989, 'early_stopping_rounds': 26}. Best is trial 47 with value: 0.286375735360989.\n"
     ]
    },
    {
     "name": "stdout",
     "output_type": "stream",
     "text": [
      "balanced_log_loss: 0.33101981374477185\n"
     ]
    },
    {
     "name": "stderr",
     "output_type": "stream",
     "text": [
      "[I 2023-07-24 18:06:02,282] Trial 58 finished with value: 0.2955248376721188 and parameters: {'max_depth': 14, 'colsample_bytree': 0.6209673529317897, 'subsample': 0.7, 'gamma': 1.5608934030806103, 'lambda': 0.005606445293929328, 'min_child_weight': 20, 'num_boost_round': 1000, 'early_stopping_rounds': 78}. Best is trial 47 with value: 0.286375735360989.\n"
     ]
    },
    {
     "name": "stdout",
     "output_type": "stream",
     "text": [
      "balanced_log_loss: 0.2955248376721188\n"
     ]
    },
    {
     "name": "stderr",
     "output_type": "stream",
     "text": [
      "[I 2023-07-24 18:06:16,533] Trial 59 finished with value: 0.2998030313203447 and parameters: {'max_depth': 11, 'colsample_bytree': 0.6751996752221922, 'subsample': 0.5, 'gamma': 1.4175797503455279, 'lambda': 0.0019959939979730325, 'min_child_weight': 7, 'num_boost_round': 943, 'early_stopping_rounds': 90}. Best is trial 47 with value: 0.286375735360989.\n"
     ]
    },
    {
     "name": "stdout",
     "output_type": "stream",
     "text": [
      "balanced_log_loss: 0.2998030313203447\n"
     ]
    },
    {
     "name": "stderr",
     "output_type": "stream",
     "text": [
      "[I 2023-07-24 18:06:18,613] Trial 60 finished with value: 0.4594152702202498 and parameters: {'max_depth': 13, 'colsample_bytree': 0.7228700970206557, 'subsample': 0.7, 'gamma': 1.5875941158573377, 'lambda': 0.0023722359743355848, 'min_child_weight': 24, 'num_boost_round': 103, 'early_stopping_rounds': 97}. Best is trial 47 with value: 0.286375735360989.\n"
     ]
    },
    {
     "name": "stdout",
     "output_type": "stream",
     "text": [
      "balanced_log_loss: 0.4594152702202498\n"
     ]
    },
    {
     "name": "stderr",
     "output_type": "stream",
     "text": [
      "[I 2023-07-24 18:06:33,174] Trial 61 finished with value: 0.2887633511052247 and parameters: {'max_depth': 12, 'colsample_bytree': 0.6937021230965397, 'subsample': 0.7, 'gamma': 1.652061524798935, 'lambda': 0.0013548639381040929, 'min_child_weight': 17, 'num_boost_round': 963, 'early_stopping_rounds': 81}. Best is trial 47 with value: 0.286375735360989.\n"
     ]
    },
    {
     "name": "stdout",
     "output_type": "stream",
     "text": [
      "balanced_log_loss: 0.2887633511052247\n"
     ]
    },
    {
     "name": "stderr",
     "output_type": "stream",
     "text": [
      "[I 2023-07-24 18:06:47,699] Trial 62 finished with value: 0.28898145662567976 and parameters: {'max_depth': 13, 'colsample_bytree': 0.6942964545859873, 'subsample': 0.7, 'gamma': 1.6689515411981333, 'lambda': 0.0010964133150526123, 'min_child_weight': 16, 'num_boost_round': 916, 'early_stopping_rounds': 82}. Best is trial 47 with value: 0.286375735360989.\n"
     ]
    },
    {
     "name": "stdout",
     "output_type": "stream",
     "text": [
      "balanced_log_loss: 0.28898145662567976\n"
     ]
    },
    {
     "name": "stderr",
     "output_type": "stream",
     "text": [
      "[I 2023-07-24 18:07:01,905] Trial 63 finished with value: 0.2889809885042065 and parameters: {'max_depth': 15, 'colsample_bytree': 0.6675890688485587, 'subsample': 0.7, 'gamma': 1.9145851098455124, 'lambda': 0.0016273600656451857, 'min_child_weight': 10, 'num_boost_round': 864, 'early_stopping_rounds': 94}. Best is trial 47 with value: 0.286375735360989.\n"
     ]
    },
    {
     "name": "stdout",
     "output_type": "stream",
     "text": [
      "balanced_log_loss: 0.2889809885042065\n"
     ]
    },
    {
     "name": "stderr",
     "output_type": "stream",
     "text": [
      "[I 2023-07-24 18:07:13,798] Trial 64 finished with value: 0.2953170126669364 and parameters: {'max_depth': 12, 'colsample_bytree': 0.6546278987745514, 'subsample': 1.0, 'gamma': 1.7977673593324681, 'lambda': 0.0037167962857563457, 'min_child_weight': 21, 'num_boost_round': 955, 'early_stopping_rounds': 90}. Best is trial 47 with value: 0.286375735360989.\n"
     ]
    },
    {
     "name": "stdout",
     "output_type": "stream",
     "text": [
      "balanced_log_loss: 0.2953170126669364\n"
     ]
    },
    {
     "name": "stderr",
     "output_type": "stream",
     "text": [
      "[I 2023-07-24 18:07:24,006] Trial 65 finished with value: 0.29303192678948786 and parameters: {'max_depth': 14, 'colsample_bytree': 0.6935044038509499, 'subsample': 0.7, 'gamma': 1.5342986767240008, 'lambda': 0.0022758371727950384, 'min_child_weight': 17, 'num_boost_round': 823, 'early_stopping_rounds': 36}. Best is trial 47 with value: 0.286375735360989.\n"
     ]
    },
    {
     "name": "stdout",
     "output_type": "stream",
     "text": [
      "balanced_log_loss: 0.29303192678948786\n"
     ]
    },
    {
     "name": "stderr",
     "output_type": "stream",
     "text": [
      "[I 2023-07-24 18:07:37,945] Trial 66 finished with value: 0.2854949274009835 and parameters: {'max_depth': 12, 'colsample_bytree': 0.6369140190061175, 'subsample': 0.7, 'gamma': 1.4089502292363671, 'lambda': 0.0013616515365593197, 'min_child_weight': 14, 'num_boost_round': 919, 'early_stopping_rounds': 98}. Best is trial 66 with value: 0.2854949274009835.\n"
     ]
    },
    {
     "name": "stdout",
     "output_type": "stream",
     "text": [
      "balanced_log_loss: 0.2854949274009835\n"
     ]
    },
    {
     "name": "stderr",
     "output_type": "stream",
     "text": [
      "[I 2023-07-24 18:07:48,924] Trial 67 finished with value: 0.4617068228758627 and parameters: {'max_depth': 11, 'colsample_bytree': 0.6119009996209885, 'subsample': 0.4, 'gamma': 1.427337866277901, 'lambda': 0.004641071540278981, 'min_child_weight': 40, 'num_boost_round': 910, 'early_stopping_rounds': 100}. Best is trial 66 with value: 0.2854949274009835.\n"
     ]
    },
    {
     "name": "stdout",
     "output_type": "stream",
     "text": [
      "balanced_log_loss: 0.4617068228758627\n"
     ]
    },
    {
     "name": "stderr",
     "output_type": "stream",
     "text": [
      "[I 2023-07-24 18:08:00,852] Trial 68 finished with value: 0.28615460806674997 and parameters: {'max_depth': 16, 'colsample_bytree': 0.6339018915444667, 'subsample': 0.7, 'gamma': 1.7476586106745662, 'lambda': 0.0024504267218232747, 'min_child_weight': 11, 'num_boost_round': 934, 'early_stopping_rounds': 98}. Best is trial 66 with value: 0.2854949274009835.\n"
     ]
    },
    {
     "name": "stdout",
     "output_type": "stream",
     "text": [
      "balanced_log_loss: 0.28615460806674997\n"
     ]
    },
    {
     "name": "stderr",
     "output_type": "stream",
     "text": [
      "[I 2023-07-24 18:08:13,618] Trial 69 finished with value: 0.3135252289359246 and parameters: {'max_depth': 16, 'colsample_bytree': 0.6080109150552864, 'subsample': 0.7, 'gamma': 1.464850296884351, 'lambda': 0.001369906077313887, 'min_child_weight': 2, 'num_boost_round': 997, 'early_stopping_rounds': 98}. Best is trial 66 with value: 0.2854949274009835.\n"
     ]
    },
    {
     "name": "stdout",
     "output_type": "stream",
     "text": [
      "balanced_log_loss: 0.3135252289359246\n"
     ]
    },
    {
     "name": "stderr",
     "output_type": "stream",
     "text": [
      "[I 2023-07-24 18:08:24,278] Trial 70 finished with value: 0.2899708569342495 and parameters: {'max_depth': 17, 'colsample_bytree': 0.6280357499087974, 'subsample': 0.7, 'gamma': 1.73072894171715, 'lambda': 0.0022964299497028307, 'min_child_weight': 8, 'num_boost_round': 933, 'early_stopping_rounds': 95}. Best is trial 66 with value: 0.2854949274009835.\n"
     ]
    },
    {
     "name": "stdout",
     "output_type": "stream",
     "text": [
      "balanced_log_loss: 0.2899708569342495\n"
     ]
    },
    {
     "name": "stderr",
     "output_type": "stream",
     "text": [
      "[I 2023-07-24 18:08:35,916] Trial 71 finished with value: 0.28750636944154095 and parameters: {'max_depth': 16, 'colsample_bytree': 0.646589670427201, 'subsample': 0.7, 'gamma': 1.928711034415889, 'lambda': 0.003357547343166397, 'min_child_weight': 11, 'num_boost_round': 876, 'early_stopping_rounds': 92}. Best is trial 66 with value: 0.2854949274009835.\n"
     ]
    },
    {
     "name": "stdout",
     "output_type": "stream",
     "text": [
      "balanced_log_loss: 0.28750636944154095\n"
     ]
    },
    {
     "name": "stderr",
     "output_type": "stream",
     "text": [
      "[I 2023-07-24 18:08:48,164] Trial 72 finished with value: 0.2892822399499576 and parameters: {'max_depth': 16, 'colsample_bytree': 0.6298402305663809, 'subsample': 0.7, 'gamma': 1.8417975489937186, 'lambda': 0.0010175678110198316, 'min_child_weight': 14, 'num_boost_round': 888, 'early_stopping_rounds': 86}. Best is trial 66 with value: 0.2854949274009835.\n"
     ]
    },
    {
     "name": "stdout",
     "output_type": "stream",
     "text": [
      "balanced_log_loss: 0.2892822399499576\n"
     ]
    },
    {
     "name": "stderr",
     "output_type": "stream",
     "text": [
      "[I 2023-07-24 18:08:59,913] Trial 73 finished with value: 0.2884489998878198 and parameters: {'max_depth': 18, 'colsample_bytree': 0.6442142512432697, 'subsample': 0.7, 'gamma': 1.7813267750467445, 'lambda': 0.0028495890498510474, 'min_child_weight': 13, 'num_boost_round': 832, 'early_stopping_rounds': 98}. Best is trial 66 with value: 0.2854949274009835.\n"
     ]
    },
    {
     "name": "stdout",
     "output_type": "stream",
     "text": [
      "balanced_log_loss: 0.2884489998878198\n"
     ]
    },
    {
     "name": "stderr",
     "output_type": "stream",
     "text": [
      "[I 2023-07-24 18:09:11,809] Trial 74 finished with value: 0.290752427120951 and parameters: {'max_depth': 15, 'colsample_bytree': 0.6683516763254795, 'subsample': 0.7, 'gamma': 1.9094923350987816, 'lambda': 0.001718787380350344, 'min_child_weight': 6, 'num_boost_round': 920, 'early_stopping_rounds': 91}. Best is trial 66 with value: 0.2854949274009835.\n"
     ]
    },
    {
     "name": "stdout",
     "output_type": "stream",
     "text": [
      "balanced_log_loss: 0.290752427120951\n"
     ]
    },
    {
     "name": "stderr",
     "output_type": "stream",
     "text": [
      "[I 2023-07-24 18:09:18,631] Trial 75 finished with value: 0.3205915988039728 and parameters: {'max_depth': 13, 'colsample_bytree': 0.6487383412111003, 'subsample': 0.6, 'gamma': 1.7043624340009558, 'lambda': 0.00551661091780572, 'min_child_weight': 11, 'num_boost_round': 363, 'early_stopping_rounds': 94}. Best is trial 66 with value: 0.2854949274009835.\n"
     ]
    },
    {
     "name": "stdout",
     "output_type": "stream",
     "text": [
      "balanced_log_loss: 0.3205915988039728\n"
     ]
    },
    {
     "name": "stderr",
     "output_type": "stream",
     "text": [
      "[I 2023-07-24 18:09:30,673] Trial 76 finished with value: 0.2874160204457555 and parameters: {'max_depth': 14, 'colsample_bytree': 0.6739646671433279, 'subsample': 0.7, 'gamma': 1.8406421631546228, 'lambda': 0.0026036349987252436, 'min_child_weight': 8, 'num_boost_round': 862, 'early_stopping_rounds': 88}. Best is trial 66 with value: 0.2854949274009835.\n"
     ]
    },
    {
     "name": "stdout",
     "output_type": "stream",
     "text": [
      "balanced_log_loss: 0.2874160204457555\n"
     ]
    },
    {
     "name": "stderr",
     "output_type": "stream",
     "text": [
      "[I 2023-07-24 18:09:41,668] Trial 77 finished with value: 0.2989246694423742 and parameters: {'max_depth': 15, 'colsample_bytree': 0.6334551962880359, 'subsample': 0.5, 'gamma': 1.8458782918504568, 'lambda': 0.0034892227012802823, 'min_child_weight': 4, 'num_boost_round': 812, 'early_stopping_rounds': 88}. Best is trial 66 with value: 0.2854949274009835.\n"
     ]
    },
    {
     "name": "stdout",
     "output_type": "stream",
     "text": [
      "balanced_log_loss: 0.2989246694423742\n"
     ]
    },
    {
     "name": "stderr",
     "output_type": "stream",
     "text": [
      "[I 2023-07-24 18:09:54,232] Trial 78 finished with value: 0.28667588877888833 and parameters: {'max_depth': 17, 'colsample_bytree': 0.6684538366734185, 'subsample': 0.7, 'gamma': 1.7720577345222024, 'lambda': 0.0020708114525920607, 'min_child_weight': 8, 'num_boost_round': 856, 'early_stopping_rounds': 98}. Best is trial 66 with value: 0.2854949274009835.\n"
     ]
    },
    {
     "name": "stdout",
     "output_type": "stream",
     "text": [
      "balanced_log_loss: 0.28667588877888833\n"
     ]
    },
    {
     "name": "stderr",
     "output_type": "stream",
     "text": [
      "[I 2023-07-24 18:09:58,635] Trial 79 finished with value: 0.3442346298261091 and parameters: {'max_depth': 17, 'colsample_bytree': 0.6679050390129881, 'subsample': 0.7, 'gamma': 1.9198779034258824, 'lambda': 0.002620392240576801, 'min_child_weight': 8, 'num_boost_round': 232, 'early_stopping_rounds': 85}. Best is trial 66 with value: 0.2854949274009835.\n"
     ]
    },
    {
     "name": "stdout",
     "output_type": "stream",
     "text": [
      "balanced_log_loss: 0.3442346298261091\n"
     ]
    },
    {
     "name": "stderr",
     "output_type": "stream",
     "text": [
      "[I 2023-07-24 18:10:11,348] Trial 80 finished with value: 0.291142762890778 and parameters: {'max_depth': 19, 'colsample_bytree': 0.6060886339460011, 'subsample': 0.7, 'gamma': 1.5532051132786415, 'lambda': 0.0035132484361327914, 'min_child_weight': 6, 'num_boost_round': 760, 'early_stopping_rounds': 97}. Best is trial 66 with value: 0.2854949274009835.\n"
     ]
    },
    {
     "name": "stdout",
     "output_type": "stream",
     "text": [
      "balanced_log_loss: 0.291142762890778\n"
     ]
    },
    {
     "name": "stderr",
     "output_type": "stream",
     "text": [
      "[I 2023-07-24 18:10:25,268] Trial 81 finished with value: 0.28607908609131344 and parameters: {'max_depth': 16, 'colsample_bytree': 0.6609847626063078, 'subsample': 0.7, 'gamma': 1.7705005098062734, 'lambda': 0.0020274228242029473, 'min_child_weight': 13, 'num_boost_round': 858, 'early_stopping_rounds': 100}. Best is trial 66 with value: 0.2854949274009835.\n"
     ]
    },
    {
     "name": "stdout",
     "output_type": "stream",
     "text": [
      "balanced_log_loss: 0.28607908609131344\n"
     ]
    },
    {
     "name": "stderr",
     "output_type": "stream",
     "text": [
      "[I 2023-07-24 18:10:34,184] Trial 82 finished with value: 0.29817671141652774 and parameters: {'max_depth': 18, 'colsample_bytree': 0.6352386997718401, 'subsample': 0.7, 'gamma': 1.8203549209642693, 'lambda': 0.001995992452761166, 'min_child_weight': 11, 'num_boost_round': 856, 'early_stopping_rounds': 19}. Best is trial 66 with value: 0.2854949274009835.\n"
     ]
    },
    {
     "name": "stdout",
     "output_type": "stream",
     "text": [
      "balanced_log_loss: 0.29817671141652774\n"
     ]
    },
    {
     "name": "stderr",
     "output_type": "stream",
     "text": [
      "[I 2023-07-24 18:10:49,294] Trial 83 finished with value: 0.28626699839978337 and parameters: {'max_depth': 16, 'colsample_bytree': 0.6716550591056932, 'subsample': 0.7, 'gamma': 1.624946064290046, 'lambda': 0.0026660427887705567, 'min_child_weight': 13, 'num_boost_round': 867, 'early_stopping_rounds': 96}. Best is trial 66 with value: 0.2854949274009835.\n"
     ]
    },
    {
     "name": "stdout",
     "output_type": "stream",
     "text": [
      "balanced_log_loss: 0.28626699839978337\n"
     ]
    },
    {
     "name": "stderr",
     "output_type": "stream",
     "text": [
      "[I 2023-07-24 18:11:04,275] Trial 84 finished with value: 0.28630833544486745 and parameters: {'max_depth': 16, 'colsample_bytree': 0.675881588797907, 'subsample': 0.7, 'gamma': 1.943804592390738, 'lambda': 0.004743143600699658, 'min_child_weight': 8, 'num_boost_round': 892, 'early_stopping_rounds': 96}. Best is trial 66 with value: 0.2854949274009835.\n"
     ]
    },
    {
     "name": "stdout",
     "output_type": "stream",
     "text": [
      "balanced_log_loss: 0.28630833544486745\n"
     ]
    },
    {
     "name": "stderr",
     "output_type": "stream",
     "text": [
      "[I 2023-07-24 18:11:15,229] Trial 85 finished with value: 0.2984301806669073 and parameters: {'max_depth': 18, 'colsample_bytree': 0.676508282346405, 'subsample': 1.0, 'gamma': 1.6217663231274584, 'lambda': 0.0065558446412575045, 'min_child_weight': 9, 'num_boost_round': 849, 'early_stopping_rounds': 97}. Best is trial 66 with value: 0.2854949274009835.\n"
     ]
    },
    {
     "name": "stdout",
     "output_type": "stream",
     "text": [
      "balanced_log_loss: 0.2984301806669073\n"
     ]
    },
    {
     "name": "stderr",
     "output_type": "stream",
     "text": [
      "[I 2023-07-24 18:11:28,531] Trial 86 finished with value: 0.29018547434579967 and parameters: {'max_depth': 16, 'colsample_bytree': 0.7066908303904479, 'subsample': 0.7, 'gamma': 1.858454769276617, 'lambda': 0.00493847582951718, 'min_child_weight': 7, 'num_boost_round': 753, 'early_stopping_rounds': 99}. Best is trial 66 with value: 0.2854949274009835.\n"
     ]
    },
    {
     "name": "stdout",
     "output_type": "stream",
     "text": [
      "balanced_log_loss: 0.29018547434579967\n"
     ]
    },
    {
     "name": "stderr",
     "output_type": "stream",
     "text": [
      "[I 2023-07-24 18:11:40,974] Trial 87 finished with value: 0.29711896640567065 and parameters: {'max_depth': 17, 'colsample_bytree': 0.6551873166848822, 'subsample': 0.7, 'gamma': 1.7696636151197291, 'lambda': 0.0025869136615993228, 'min_child_weight': 5, 'num_boost_round': 805, 'early_stopping_rounds': 96}. Best is trial 66 with value: 0.2854949274009835.\n"
     ]
    },
    {
     "name": "stdout",
     "output_type": "stream",
     "text": [
      "balanced_log_loss: 0.29711896640567065\n"
     ]
    },
    {
     "name": "stderr",
     "output_type": "stream",
     "text": [
      "[I 2023-07-24 18:11:52,951] Trial 88 finished with value: 0.2962130005803499 and parameters: {'max_depth': 15, 'colsample_bytree': 0.623516751783356, 'subsample': 0.7, 'gamma': 1.4904929028981635, 'lambda': 0.004217553619337932, 'min_child_weight': 3, 'num_boost_round': 896, 'early_stopping_rounds': 88}. Best is trial 66 with value: 0.2854949274009835.\n"
     ]
    },
    {
     "name": "stdout",
     "output_type": "stream",
     "text": [
      "balanced_log_loss: 0.2962130005803499\n"
     ]
    },
    {
     "name": "stderr",
     "output_type": "stream",
     "text": [
      "[I 2023-07-24 18:12:04,725] Trial 89 finished with value: 0.303450876169291 and parameters: {'max_depth': 14, 'colsample_bytree': 0.6812401933020628, 'subsample': 0.4, 'gamma': 1.6010893302916571, 'lambda': 0.0018960394611483113, 'min_child_weight': 13, 'num_boost_round': 790, 'early_stopping_rounds': 100}. Best is trial 66 with value: 0.2854949274009835.\n"
     ]
    },
    {
     "name": "stdout",
     "output_type": "stream",
     "text": [
      "balanced_log_loss: 0.303450876169291\n"
     ]
    },
    {
     "name": "stderr",
     "output_type": "stream",
     "text": [
      "[I 2023-07-24 18:12:18,211] Trial 90 finished with value: 0.29246206837911565 and parameters: {'max_depth': 16, 'colsample_bytree': 0.6041112182351377, 'subsample': 0.7, 'gamma': 1.6724295222625474, 'lambda': 0.002779254712070156, 'min_child_weight': 8, 'num_boost_round': 833, 'early_stopping_rounds': 91}. Best is trial 66 with value: 0.2854949274009835.\n"
     ]
    },
    {
     "name": "stdout",
     "output_type": "stream",
     "text": [
      "balanced_log_loss: 0.29246206837911565\n"
     ]
    },
    {
     "name": "stderr",
     "output_type": "stream",
     "text": [
      "[I 2023-07-24 18:12:33,779] Trial 91 finished with value: 0.28507231212370926 and parameters: {'max_depth': 16, 'colsample_bytree': 0.6442274350695802, 'subsample': 0.7, 'gamma': 1.83530081086466, 'lambda': 0.0031129592850094815, 'min_child_weight': 11, 'num_boost_round': 878, 'early_stopping_rounds': 96}. Best is trial 91 with value: 0.28507231212370926.\n"
     ]
    },
    {
     "name": "stdout",
     "output_type": "stream",
     "text": [
      "balanced_log_loss: 0.28507231212370926\n"
     ]
    },
    {
     "name": "stderr",
     "output_type": "stream",
     "text": [
      "[I 2023-07-24 18:12:48,662] Trial 92 finished with value: 0.28741750276487815 and parameters: {'max_depth': 18, 'colsample_bytree': 0.6387065800386997, 'subsample': 0.7, 'gamma': 1.9468526845955514, 'lambda': 0.0023465974226366112, 'min_child_weight': 10, 'num_boost_round': 904, 'early_stopping_rounds': 96}. Best is trial 91 with value: 0.28507231212370926.\n"
     ]
    },
    {
     "name": "stdout",
     "output_type": "stream",
     "text": [
      "balanced_log_loss: 0.28741750276487815\n"
     ]
    },
    {
     "name": "stderr",
     "output_type": "stream",
     "text": [
      "[I 2023-07-24 18:13:03,545] Trial 93 finished with value: 0.2865762185881402 and parameters: {'max_depth': 19, 'colsample_bytree': 0.6383851796439746, 'subsample': 0.7, 'gamma': 1.828054185782514, 'lambda': 0.006151712816646326, 'min_child_weight': 9, 'num_boost_round': 921, 'early_stopping_rounds': 98}. Best is trial 91 with value: 0.28507231212370926.\n"
     ]
    },
    {
     "name": "stdout",
     "output_type": "stream",
     "text": [
      "balanced_log_loss: 0.2865762185881402\n"
     ]
    },
    {
     "name": "stderr",
     "output_type": "stream",
     "text": [
      "[I 2023-07-24 18:13:18,609] Trial 94 finished with value: 0.2858499559496822 and parameters: {'max_depth': 20, 'colsample_bytree': 0.664000789527423, 'subsample': 0.7, 'gamma': 1.8533743088491386, 'lambda': 0.005997290149352777, 'min_child_weight': 9, 'num_boost_round': 925, 'early_stopping_rounds': 98}. Best is trial 91 with value: 0.28507231212370926.\n"
     ]
    },
    {
     "name": "stdout",
     "output_type": "stream",
     "text": [
      "balanced_log_loss: 0.2858499559496822\n"
     ]
    },
    {
     "name": "stderr",
     "output_type": "stream",
     "text": [
      "[I 2023-07-24 18:13:33,630] Trial 95 finished with value: 0.28495961062567476 and parameters: {'max_depth': 20, 'colsample_bytree': 0.6597946356014663, 'subsample': 0.7, 'gamma': 1.884172979513442, 'lambda': 0.006050024963423825, 'min_child_weight': 9, 'num_boost_round': 926, 'early_stopping_rounds': 98}. Best is trial 95 with value: 0.28495961062567476.\n"
     ]
    },
    {
     "name": "stdout",
     "output_type": "stream",
     "text": [
      "balanced_log_loss: 0.28495961062567476\n"
     ]
    },
    {
     "name": "stderr",
     "output_type": "stream",
     "text": [
      "[I 2023-07-24 18:13:48,160] Trial 96 finished with value: 0.28766884522640973 and parameters: {'max_depth': 20, 'colsample_bytree': 0.6557201754153262, 'subsample': 0.7, 'gamma': 1.8851474959677113, 'lambda': 0.005949815447719473, 'min_child_weight': 12, 'num_boost_round': 924, 'early_stopping_rounds': 93}. Best is trial 95 with value: 0.28495961062567476.\n"
     ]
    },
    {
     "name": "stdout",
     "output_type": "stream",
     "text": [
      "balanced_log_loss: 0.28766884522640973\n"
     ]
    },
    {
     "name": "stderr",
     "output_type": "stream",
     "text": [
      "[I 2023-07-24 18:14:02,845] Trial 97 finished with value: 0.2924643412068194 and parameters: {'max_depth': 19, 'colsample_bytree': 0.622104861352065, 'subsample': 0.6, 'gamma': 1.9501560811162284, 'lambda': 0.009856653817143235, 'min_child_weight': 9, 'num_boost_round': 890, 'early_stopping_rounds': 100}. Best is trial 95 with value: 0.28495961062567476.\n"
     ]
    },
    {
     "name": "stdout",
     "output_type": "stream",
     "text": [
      "balanced_log_loss: 0.2924643412068194\n"
     ]
    },
    {
     "name": "stderr",
     "output_type": "stream",
     "text": [
      "[I 2023-07-24 18:14:15,251] Trial 98 finished with value: 0.29062126450616804 and parameters: {'max_depth': 20, 'colsample_bytree': 0.641868832914191, 'subsample': 0.7, 'gamma': 1.8130809611288696, 'lambda': 0.012294009063102972, 'min_child_weight': 5, 'num_boost_round': 972, 'early_stopping_rounds': 70}. Best is trial 95 with value: 0.28495961062567476.\n"
     ]
    },
    {
     "name": "stdout",
     "output_type": "stream",
     "text": [
      "balanced_log_loss: 0.29062126450616804\n"
     ]
    },
    {
     "name": "stderr",
     "output_type": "stream",
     "text": [
      "[I 2023-07-24 18:14:30,785] Trial 99 finished with value: 0.29130930564741553 and parameters: {'max_depth': 20, 'colsample_bytree': 0.6598141164598006, 'subsample': 0.5, 'gamma': 1.8706914057028545, 'lambda': 0.007107374228627907, 'min_child_weight': 13, 'num_boost_round': 940, 'early_stopping_rounds': 95}. Best is trial 95 with value: 0.28495961062567476.\n"
     ]
    },
    {
     "name": "stdout",
     "output_type": "stream",
     "text": [
      "balanced_log_loss: 0.29130930564741553\n"
     ]
    }
   ],
   "source": [
    "study = optuna.create_study(direction=\"minimize\")\n",
    "study.optimize(objective, n_trials=CFG.n_trials)"
   ]
  },
  {
   "cell_type": "code",
   "execution_count": 25,
   "id": "9ab0d689",
   "metadata": {
    "scrolled": true
   },
   "outputs": [
    {
     "name": "stdout",
     "output_type": "stream",
     "text": [
      "best_param: {'max_depth': 20, 'colsample_bytree': 0.6597946356014663, 'subsample': 0.7, 'gamma': 1.884172979513442, 'lambda': 0.006050024963423825, 'min_child_weight': 9, 'num_boost_round': 926, 'early_stopping_rounds': 98}\n",
      "\n",
      "best_value: 0.28495961062567476\n"
     ]
    }
   ],
   "source": [
    "best_params = study.best_trial.params\n",
    "best_value = study.best_value\n",
    "print(\"best_param: {}\\n\\nbest_value: {}\".format(best_params, best_value))"
   ]
  }
 ],
 "metadata": {
  "kernelspec": {
   "display_name": "Python 3 (ipykernel)",
   "language": "python",
   "name": "python3"
  },
  "language_info": {
   "codemirror_mode": {
    "name": "ipython",
    "version": 3
   },
   "file_extension": ".py",
   "mimetype": "text/x-python",
   "name": "python",
   "nbconvert_exporter": "python",
   "pygments_lexer": "ipython3",
   "version": "3.10.11"
  }
 },
 "nbformat": 4,
 "nbformat_minor": 5
}
